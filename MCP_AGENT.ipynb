{
 "cells": [
  {
   "cell_type": "code",
   "execution_count": 54,
   "id": "ae6727dd-5d19-42c4-a201-4e69c960863b",
   "metadata": {},
   "outputs": [
    {
     "name": "stdout",
     "output_type": "stream",
     "text": [
      "Config set: http://localhost:8000/v1\n"
     ]
    }
   ],
   "source": [
    "import os\n",
    "\n",
    "BASE_URL = f\"http://localhost:8000/v1\"\n",
    "\n",
    "os.environ[\"BASE_URL\"]    = BASE_URL\n",
    "os.environ[\"OPENAI_API_KEY\"] = \"abc-123\"   \n",
    "\n",
    "print(\"Config set:\", BASE_URL)"
   ]
  },
  {
   "cell_type": "code",
   "execution_count": 55,
   "id": "7dd926f5-0e8f-4ec1-895f-d875dec570f0",
   "metadata": {},
   "outputs": [
    {
     "name": "stdout",
     "output_type": "stream",
     "text": [
      "{\"object\":\"list\",\"data\":[{\"id\":\"Qwen3-8B\",\"object\":\"model\",\"created\":1752941441,\"owned_by\":\"vllm\",\"root\":\"Qwen/Qwen3-8B\",\"parent\":null,\"max_model_len\":8192,\"permission\":[{\"id\":\"modelperm-ad2c06f72fa048ec8ecaab3c3dc00e62\",\"object\":\"model_permission\",\"created\":1752941441,\"allow_create_engine\":false,\"allow_sampling\":true,\"allow_logprobs\":true,\"allow_search_indices\":false,\"allow_view\":true,\"allow_fine_tuning\":false,\"organization\":\"*\",\"group\":null,\"is_blocking\":false}]}]}"
     ]
    }
   ],
   "source": [
    "!curl http://localhost:8000/v1/models -H \"Authorization: Bearer $OPENAI_API_KEY\""
   ]
  },
  {
   "cell_type": "code",
   "execution_count": 56,
   "id": "9bdd7ba5-c492-4d89-8895-99b604bc7f12",
   "metadata": {},
   "outputs": [],
   "source": [
    "from pydantic_ai import Agent\n",
    "from pydantic_ai.mcp import MCPServerSSE\n",
    "\n",
    "server = server = MCPServerSSE('http://localhost:8090/sse') "
   ]
  },
  {
   "cell_type": "code",
   "execution_count": 57,
   "id": "6d5f36e1-7d41-4d57-ae6e-a15ff3cf267b",
   "metadata": {},
   "outputs": [],
   "source": [
    "from pydantic_ai.models.openai import OpenAIModel\n",
    "from pydantic_ai.providers.openai import OpenAIProvider\n",
    "\n",
    "provider = OpenAIProvider(\n",
    "    base_url=os.environ[\"BASE_URL\"],\n",
    "    api_key=os.environ[\"OPENAI_API_KEY\"],\n",
    ")\n",
    "\n",
    "agent_model = model = OpenAIModel(\"Qwen3-8B\", provider=provider)"
   ]
  },
  {
   "cell_type": "code",
   "execution_count": 58,
   "id": "6b960746-2777-4489-a8e7-ccae6179a358",
   "metadata": {},
   "outputs": [],
   "source": [
    "from pydantic_ai import Agent\n",
    "\n",
    "agent = Agent(\n",
    "    model=agent_model,\n",
    "    toolsets=[server],\n",
    "    system_prompt = \"\"\"\n",
    "    The tool to check for most optimal time frame:\n",
    "    get_free_time_slots()\n",
    "    Args:\n",
    "    attendees (list): List of attendee identifiers (usernames, emails, or IDs)\n",
    "                     whose calendars will be checked for availability.\n",
    "    duration_minutes (int): Required meeting duration in minutes. Only time slots\n",
    "                           with at least this much available time will be returned.\n",
    "    start_date (str): Start of the search period in ISO format (YYYY-MM-DDTHH:MM:SS)\n",
    "                     or similar datetime string format.\n",
    "    end_date (str): End of the search period in ISO format (YYYY-MM-DDTHH:MM:SS)\n",
    "                   or similar datetime string format.\n",
    " \"\"\"\n",
    ")"
   ]
  },
  {
   "cell_type": "code",
   "execution_count": 59,
   "id": "dee8a839-b8fe-437c-8898-8283ee0b65dd",
   "metadata": {},
   "outputs": [],
   "source": [
    "import asyncio\n",
    "from pydantic_ai.mcp import MCPServerStdio\n",
    "async def run_async(prompt: str) -> str:\n",
    "    async with agent.run_mcp_servers():\n",
    "        result = await agent.run(prompt)\n",
    "        return result.output\n"
   ]
  },
  {
   "cell_type": "code",
   "execution_count": 60,
   "id": "2380f278-d97e-4d05-a699-409e75a2e7fe",
   "metadata": {},
   "outputs": [],
   "source": [
    "from mcp.server.fastmcp import FastMCP\n",
    "from mcp.server import Server\n",
    "import json\n",
    "import logging\n",
    "from typing import Optional, Dict, Any\n",
    "from datetime import datetime, timezone, timedelta\n",
    "from google.oauth2.credentials import Credentials\n",
    "from googleapiclient.discovery import build\n",
    "from mcp.server.sse import SseServerTransport\n",
    "import argparse\n",
    "from starlette.routing import Mount, Route\n",
    "from pydantic import BaseModel\n",
    "from starlette.applications import Starlette\n",
    "from starlette.requests import Request\n",
    "import uvicorn\n",
    "import os\n",
    "from pydantic_ai.models.openai import OpenAIModel\n",
    "from pydantic_ai.providers.openai import OpenAIProvider\n",
    "from pydantic_ai import Agent\n",
    "from pydantic_ai.mcp import MCPServerSSE"
   ]
  },
  {
   "cell_type": "code",
   "execution_count": 61,
   "id": "d0c9204c-6ca3-45e3-a984-3c6517745412",
   "metadata": {},
   "outputs": [
    {
     "ename": "UnexpectedModelBehavior",
     "evalue": "Tool 'get_free_time_slots' exceeded max retries count of 1",
     "output_type": "error",
     "traceback": [
      "\u001b[31m---------------------------------------------------------------------------\u001b[39m",
      "\u001b[31mModelRetry\u001b[39m                                Traceback (most recent call last)",
      "\u001b[36mFile \u001b[39m\u001b[32m/usr/local/lib/python3.12/dist-packages/pydantic_ai/_tool_manager.py:95\u001b[39m, in \u001b[36mToolManager._call_tool\u001b[39m\u001b[34m(self, call, allow_partial)\u001b[39m\n\u001b[32m     93\u001b[39m         args_dict = validator.validate_python(call.args \u001b[38;5;129;01mor\u001b[39;00m {}, allow_partial=pyd_allow_partial)\n\u001b[32m---> \u001b[39m\u001b[32m95\u001b[39m     output = \u001b[38;5;28;01mawait\u001b[39;00m \u001b[38;5;28mself\u001b[39m.toolset.call_tool(name, args_dict, ctx, tool)\n\u001b[32m     96\u001b[39m \u001b[38;5;28;01mexcept\u001b[39;00m (ValidationError, ModelRetry) \u001b[38;5;28;01mas\u001b[39;00m e:\n",
      "\u001b[36mFile \u001b[39m\u001b[32m/usr/local/lib/python3.12/dist-packages/pydantic_ai/toolsets/combined.py:84\u001b[39m, in \u001b[36mCombinedToolset.call_tool\u001b[39m\u001b[34m(self, name, tool_args, ctx, tool)\u001b[39m\n\u001b[32m     83\u001b[39m \u001b[38;5;28;01massert\u001b[39;00m \u001b[38;5;28misinstance\u001b[39m(tool, _CombinedToolsetTool)\n\u001b[32m---> \u001b[39m\u001b[32m84\u001b[39m \u001b[38;5;28;01mreturn\u001b[39;00m \u001b[38;5;28;01mawait\u001b[39;00m tool.source_toolset.call_tool(name, tool_args, ctx, tool.source_tool)\n",
      "\u001b[36mFile \u001b[39m\u001b[32m/usr/local/lib/python3.12/dist-packages/pydantic_ai/mcp.py:173\u001b[39m, in \u001b[36mMCPServer.call_tool\u001b[39m\u001b[34m(self, name, tool_args, ctx, tool)\u001b[39m\n\u001b[32m    172\u001b[39m \u001b[38;5;28;01melse\u001b[39;00m:\n\u001b[32m--> \u001b[39m\u001b[32m173\u001b[39m     \u001b[38;5;28;01mreturn\u001b[39;00m \u001b[38;5;28;01mawait\u001b[39;00m \u001b[38;5;28mself\u001b[39m.direct_call_tool(name, tool_args)\n",
      "\u001b[36mFile \u001b[39m\u001b[32m/usr/local/lib/python3.12/dist-packages/pydantic_ai/mcp.py:155\u001b[39m, in \u001b[36mMCPServer.direct_call_tool\u001b[39m\u001b[34m(self, name, args, metadata)\u001b[39m\n\u001b[32m    154\u001b[39m     text = \u001b[33m'\u001b[39m\u001b[38;5;130;01m\\n\u001b[39;00m\u001b[33m'\u001b[39m.join(\u001b[38;5;28mstr\u001b[39m(part) \u001b[38;5;28;01mfor\u001b[39;00m part \u001b[38;5;129;01min\u001b[39;00m content)\n\u001b[32m--> \u001b[39m\u001b[32m155\u001b[39m     \u001b[38;5;28;01mraise\u001b[39;00m exceptions.ModelRetry(text)\n\u001b[32m    156\u001b[39m \u001b[38;5;28;01melse\u001b[39;00m:\n",
      "\u001b[31mModelRetry\u001b[39m: Error executing tool get_free_time_slots: can't compare offset-naive and offset-aware datetimes",
      "\nThe above exception was the direct cause of the following exception:\n",
      "\u001b[31mUnexpectedModelBehavior\u001b[39m                   Traceback (most recent call last)",
      "\u001b[36mCell\u001b[39m\u001b[36m \u001b[39m\u001b[32mIn[61]\u001b[39m\u001b[32m, line 4\u001b[39m\n\u001b[32m      1\u001b[39m \u001b[38;5;28;01mimport\u001b[39;00m\u001b[38;5;250m \u001b[39m\u001b[34;01mtime\u001b[39;00m\n\u001b[32m      3\u001b[39m start_time = time.time()\n\u001b[32m----> \u001b[39m\u001b[32m4\u001b[39m result = \u001b[38;5;28;01mawait\u001b[39;00m run_async(\u001b[33m\"\"\"\u001b[39m\n\u001b[32m      5\u001b[39m \u001b[33m    Time Frame To Check:\u001b[39m\n\u001b[32m      6\u001b[39m \u001b[33m    \u001b[39m\u001b[33m'\u001b[39m\u001b[33mstart_timeframe\u001b[39m\u001b[33m'\u001b[39m\u001b[33m: \u001b[39m\u001b[33m'\u001b[39m\u001b[33m2025-07-17T00:00:00+05:30\u001b[39m\u001b[33m'\u001b[39m\u001b[33m,\u001b[39m\n\u001b[32m      7\u001b[39m \u001b[33m    \u001b[39m\u001b[33m'\u001b[39m\u001b[33mend_timeframe\u001b[39m\u001b[33m'\u001b[39m\u001b[33m: \u001b[39m\u001b[33m'\u001b[39m\u001b[33m2025-07-19T11:59:59+05:30\u001b[39m\u001b[33m'\u001b[39m\u001b[33m,\u001b[39m\n\u001b[32m      8\u001b[39m \u001b[33m    \u001b[39m\u001b[33m'\u001b[39m\u001b[33mDuration (min)\u001b[39m\u001b[33m'\u001b[39m\u001b[33m: 60\u001b[39m\n\u001b[32m      9\u001b[39m \n\u001b[32m     10\u001b[39m \u001b[33m    User\u001b[39m\u001b[33m'\u001b[39m\u001b[33ms Involved In This Analysis: userone.amd@gmail.com, usertwo.amd@gmail.com and userthree.amd@gmail.com\u001b[39m\n\u001b[32m     11\u001b[39m \n\u001b[32m     12\u001b[39m \u001b[33m    Check for the most optimal timeframe slot.\u001b[39m\n\u001b[32m     13\u001b[39m \u001b[33m\"\"\"\u001b[39m)\n\u001b[32m     14\u001b[39m end_time = time.time()\n\u001b[32m     16\u001b[39m execution_time = end_time - start_time\n",
      "\u001b[36mCell\u001b[39m\u001b[36m \u001b[39m\u001b[32mIn[59]\u001b[39m\u001b[32m, line 5\u001b[39m, in \u001b[36mrun_async\u001b[39m\u001b[34m(prompt)\u001b[39m\n\u001b[32m      3\u001b[39m \u001b[38;5;28;01masync\u001b[39;00m \u001b[38;5;28;01mdef\u001b[39;00m\u001b[38;5;250m \u001b[39m\u001b[34mrun_async\u001b[39m(prompt: \u001b[38;5;28mstr\u001b[39m) -> \u001b[38;5;28mstr\u001b[39m:\n\u001b[32m      4\u001b[39m     \u001b[38;5;28;01masync\u001b[39;00m \u001b[38;5;28;01mwith\u001b[39;00m agent.run_mcp_servers():\n\u001b[32m----> \u001b[39m\u001b[32m5\u001b[39m         result = \u001b[38;5;28;01mawait\u001b[39;00m agent.run(prompt)\n\u001b[32m      6\u001b[39m         \u001b[38;5;28;01mreturn\u001b[39;00m result.output\n",
      "\u001b[36mFile \u001b[39m\u001b[32m/usr/local/lib/python3.12/dist-packages/pydantic_ai/agent.py:562\u001b[39m, in \u001b[36mAgent.run\u001b[39m\u001b[34m(self, user_prompt, output_type, message_history, model, deps, model_settings, usage_limits, usage, infer_name, toolsets, **_deprecated_kwargs)\u001b[39m\n\u001b[32m    549\u001b[39m _utils.validate_empty_kwargs(_deprecated_kwargs)\n\u001b[32m    551\u001b[39m \u001b[38;5;28;01masync\u001b[39;00m \u001b[38;5;28;01mwith\u001b[39;00m \u001b[38;5;28mself\u001b[39m.iter(\n\u001b[32m    552\u001b[39m     user_prompt=user_prompt,\n\u001b[32m    553\u001b[39m     output_type=output_type,\n\u001b[32m   (...)\u001b[39m\u001b[32m    560\u001b[39m     toolsets=toolsets,\n\u001b[32m    561\u001b[39m ) \u001b[38;5;28;01mas\u001b[39;00m agent_run:\n\u001b[32m--> \u001b[39m\u001b[32m562\u001b[39m     \u001b[38;5;28;01masync\u001b[39;00m \u001b[38;5;28;01mfor\u001b[39;00m _ \u001b[38;5;129;01min\u001b[39;00m agent_run:\n\u001b[32m    563\u001b[39m         \u001b[38;5;28;01mpass\u001b[39;00m\n\u001b[32m    565\u001b[39m \u001b[38;5;28;01massert\u001b[39;00m agent_run.result \u001b[38;5;129;01mis\u001b[39;00m \u001b[38;5;129;01mnot\u001b[39;00m \u001b[38;5;28;01mNone\u001b[39;00m, \u001b[33m'\u001b[39m\u001b[33mThe graph run did not finish properly\u001b[39m\u001b[33m'\u001b[39m\n",
      "\u001b[36mFile \u001b[39m\u001b[32m/usr/local/lib/python3.12/dist-packages/pydantic_ai/agent.py:2192\u001b[39m, in \u001b[36mAgentRun.__anext__\u001b[39m\u001b[34m(self)\u001b[39m\n\u001b[32m   2188\u001b[39m \u001b[38;5;28;01masync\u001b[39;00m \u001b[38;5;28;01mdef\u001b[39;00m\u001b[38;5;250m \u001b[39m\u001b[34m__anext__\u001b[39m(\n\u001b[32m   2189\u001b[39m     \u001b[38;5;28mself\u001b[39m,\n\u001b[32m   2190\u001b[39m ) -> _agent_graph.AgentNode[AgentDepsT, OutputDataT] | End[FinalResult[OutputDataT]]:\n\u001b[32m   2191\u001b[39m \u001b[38;5;250m    \u001b[39m\u001b[33;03m\"\"\"Advance to the next node automatically based on the last returned node.\"\"\"\u001b[39;00m\n\u001b[32m-> \u001b[39m\u001b[32m2192\u001b[39m     next_node = \u001b[38;5;28;01mawait\u001b[39;00m \u001b[38;5;28mself\u001b[39m._graph_run.\u001b[34m__anext__\u001b[39m()\n\u001b[32m   2193\u001b[39m     \u001b[38;5;28;01mif\u001b[39;00m _agent_graph.is_agent_node(next_node):\n\u001b[32m   2194\u001b[39m         \u001b[38;5;28;01mreturn\u001b[39;00m next_node\n",
      "\u001b[36mFile \u001b[39m\u001b[32m/usr/local/lib/python3.12/dist-packages/pydantic_graph/graph.py:809\u001b[39m, in \u001b[36mGraphRun.__anext__\u001b[39m\u001b[34m(self)\u001b[39m\n\u001b[32m    806\u001b[39m \u001b[38;5;28;01mif\u001b[39;00m \u001b[38;5;28misinstance\u001b[39m(\u001b[38;5;28mself\u001b[39m._next_node, End):\n\u001b[32m    807\u001b[39m     \u001b[38;5;28;01mraise\u001b[39;00m \u001b[38;5;167;01mStopAsyncIteration\u001b[39;00m\n\u001b[32m--> \u001b[39m\u001b[32m809\u001b[39m \u001b[38;5;28;01mreturn\u001b[39;00m \u001b[38;5;28;01mawait\u001b[39;00m \u001b[38;5;28mself\u001b[39m.next(\u001b[38;5;28mself\u001b[39m._next_node)\n",
      "\u001b[36mFile \u001b[39m\u001b[32m/usr/local/lib/python3.12/dist-packages/pydantic_graph/graph.py:782\u001b[39m, in \u001b[36mGraphRun.next\u001b[39m\u001b[34m(self, node)\u001b[39m\n\u001b[32m    780\u001b[39m     \u001b[38;5;28;01masync\u001b[39;00m \u001b[38;5;28;01mwith\u001b[39;00m \u001b[38;5;28mself\u001b[39m.persistence.record_run(node_snapshot_id):\n\u001b[32m    781\u001b[39m         ctx = GraphRunContext(\u001b[38;5;28mself\u001b[39m.state, \u001b[38;5;28mself\u001b[39m.deps)\n\u001b[32m--> \u001b[39m\u001b[32m782\u001b[39m         \u001b[38;5;28mself\u001b[39m._next_node = \u001b[38;5;28;01mawait\u001b[39;00m node.run(ctx)\n\u001b[32m    784\u001b[39m \u001b[38;5;28;01mif\u001b[39;00m \u001b[38;5;28misinstance\u001b[39m(\u001b[38;5;28mself\u001b[39m._next_node, End):\n\u001b[32m    785\u001b[39m     \u001b[38;5;28mself\u001b[39m._snapshot_id = \u001b[38;5;28mself\u001b[39m._next_node.get_snapshot_id()\n",
      "\u001b[36mFile \u001b[39m\u001b[32m/usr/local/lib/python3.12/dist-packages/pydantic_ai/_agent_graph.py:413\u001b[39m, in \u001b[36mCallToolsNode.run\u001b[39m\u001b[34m(self, ctx)\u001b[39m\n\u001b[32m    410\u001b[39m \u001b[38;5;28;01masync\u001b[39;00m \u001b[38;5;28;01mdef\u001b[39;00m\u001b[38;5;250m \u001b[39m\u001b[34mrun\u001b[39m(\n\u001b[32m    411\u001b[39m     \u001b[38;5;28mself\u001b[39m, ctx: GraphRunContext[GraphAgentState, GraphAgentDeps[DepsT, NodeRunEndT]]\n\u001b[32m    412\u001b[39m ) -> Union[ModelRequestNode[DepsT, NodeRunEndT], End[result.FinalResult[NodeRunEndT]]]:  \u001b[38;5;66;03m# noqa UP007\u001b[39;00m\n\u001b[32m--> \u001b[39m\u001b[32m413\u001b[39m     \u001b[38;5;28;01masync\u001b[39;00m \u001b[38;5;28;01mwith\u001b[39;00m \u001b[38;5;28mself\u001b[39m.stream(ctx):\n\u001b[32m    414\u001b[39m         \u001b[38;5;28;01mpass\u001b[39;00m\n\u001b[32m    415\u001b[39m     \u001b[38;5;28;01massert\u001b[39;00m \u001b[38;5;28mself\u001b[39m._next_node \u001b[38;5;129;01mis\u001b[39;00m \u001b[38;5;129;01mnot\u001b[39;00m \u001b[38;5;28;01mNone\u001b[39;00m, \u001b[33m'\u001b[39m\u001b[33mthe stream should set `self._next_node` before it ends\u001b[39m\u001b[33m'\u001b[39m\n",
      "\u001b[36mFile \u001b[39m\u001b[32m/usr/lib/python3.12/contextlib.py:217\u001b[39m, in \u001b[36m_AsyncGeneratorContextManager.__aexit__\u001b[39m\u001b[34m(self, typ, value, traceback)\u001b[39m\n\u001b[32m    215\u001b[39m \u001b[38;5;28;01mif\u001b[39;00m typ \u001b[38;5;129;01mis\u001b[39;00m \u001b[38;5;28;01mNone\u001b[39;00m:\n\u001b[32m    216\u001b[39m     \u001b[38;5;28;01mtry\u001b[39;00m:\n\u001b[32m--> \u001b[39m\u001b[32m217\u001b[39m         \u001b[38;5;28;01mawait\u001b[39;00m anext(\u001b[38;5;28mself\u001b[39m.gen)\n\u001b[32m    218\u001b[39m     \u001b[38;5;28;01mexcept\u001b[39;00m \u001b[38;5;167;01mStopAsyncIteration\u001b[39;00m:\n\u001b[32m    219\u001b[39m         \u001b[38;5;28;01mreturn\u001b[39;00m \u001b[38;5;28;01mFalse\u001b[39;00m\n",
      "\u001b[36mFile \u001b[39m\u001b[32m/usr/local/lib/python3.12/dist-packages/pydantic_ai/_agent_graph.py:427\u001b[39m, in \u001b[36mCallToolsNode.stream\u001b[39m\u001b[34m(self, ctx)\u001b[39m\n\u001b[32m    424\u001b[39m \u001b[38;5;28;01myield\u001b[39;00m stream\n\u001b[32m    426\u001b[39m \u001b[38;5;66;03m# Run the stream to completion if it was not finished:\u001b[39;00m\n\u001b[32m--> \u001b[39m\u001b[32m427\u001b[39m \u001b[38;5;28;01masync\u001b[39;00m \u001b[38;5;28;01mfor\u001b[39;00m _event \u001b[38;5;129;01min\u001b[39;00m stream:\n\u001b[32m    428\u001b[39m     \u001b[38;5;28;01mpass\u001b[39;00m\n",
      "\u001b[36mFile \u001b[39m\u001b[32m/usr/local/lib/python3.12/dist-packages/pydantic_ai/_agent_graph.py:482\u001b[39m, in \u001b[36mCallToolsNode._run_stream\u001b[39m\u001b[34m(self, ctx)\u001b[39m\n\u001b[32m    478\u001b[39m             \u001b[38;5;28;01mraise\u001b[39;00m exceptions.UnexpectedModelBehavior(\u001b[33m'\u001b[39m\u001b[33mReceived empty model response\u001b[39m\u001b[33m'\u001b[39m)\n\u001b[32m    480\u001b[39m     \u001b[38;5;28mself\u001b[39m._events_iterator = _run_stream()\n\u001b[32m--> \u001b[39m\u001b[32m482\u001b[39m \u001b[38;5;28;01masync\u001b[39;00m \u001b[38;5;28;01mfor\u001b[39;00m event \u001b[38;5;129;01min\u001b[39;00m \u001b[38;5;28mself\u001b[39m._events_iterator:\n\u001b[32m    483\u001b[39m     \u001b[38;5;28;01myield\u001b[39;00m event\n",
      "\u001b[36mFile \u001b[39m\u001b[32m/usr/local/lib/python3.12/dist-packages/pydantic_ai/_agent_graph.py:460\u001b[39m, in \u001b[36mCallToolsNode._run_stream.<locals>._run_stream\u001b[39m\u001b[34m()\u001b[39m\n\u001b[32m    455\u001b[39m \u001b[38;5;66;03m# At the moment, we prioritize at least executing tool calls if they are present.\u001b[39;00m\n\u001b[32m    456\u001b[39m \u001b[38;5;66;03m# In the future, we'd consider making this configurable at the agent or run level.\u001b[39;00m\n\u001b[32m    457\u001b[39m \u001b[38;5;66;03m# This accounts for cases like anthropic returns that might contain a text response\u001b[39;00m\n\u001b[32m    458\u001b[39m \u001b[38;5;66;03m# and a tool call response, where the text response just indicates the tool call will happen.\u001b[39;00m\n\u001b[32m    459\u001b[39m \u001b[38;5;28;01mif\u001b[39;00m tool_calls:\n\u001b[32m--> \u001b[39m\u001b[32m460\u001b[39m     \u001b[38;5;28;01masync\u001b[39;00m \u001b[38;5;28;01mfor\u001b[39;00m event \u001b[38;5;129;01min\u001b[39;00m \u001b[38;5;28mself\u001b[39m._handle_tool_calls(ctx, tool_calls):\n\u001b[32m    461\u001b[39m         \u001b[38;5;28;01myield\u001b[39;00m event\n\u001b[32m    462\u001b[39m \u001b[38;5;28;01melif\u001b[39;00m texts:\n\u001b[32m    463\u001b[39m     \u001b[38;5;66;03m# No events are emitted during the handling of text responses, so we don't need to yield anything\u001b[39;00m\n",
      "\u001b[36mFile \u001b[39m\u001b[32m/usr/local/lib/python3.12/dist-packages/pydantic_ai/_agent_graph.py:495\u001b[39m, in \u001b[36mCallToolsNode._handle_tool_calls\u001b[39m\u001b[34m(self, ctx, tool_calls)\u001b[39m\n\u001b[32m    492\u001b[39m output_parts: \u001b[38;5;28mlist\u001b[39m[_messages.ModelRequestPart] = []\n\u001b[32m    493\u001b[39m output_final_result: deque[result.FinalResult[NodeRunEndT]] = deque(maxlen=\u001b[32m1\u001b[39m)\n\u001b[32m--> \u001b[39m\u001b[32m495\u001b[39m \u001b[38;5;28;01masync\u001b[39;00m \u001b[38;5;28;01mfor\u001b[39;00m event \u001b[38;5;129;01min\u001b[39;00m process_function_tools(\n\u001b[32m    496\u001b[39m     ctx.deps.tool_manager, tool_calls, \u001b[38;5;28;01mNone\u001b[39;00m, ctx, output_parts, output_final_result\n\u001b[32m    497\u001b[39m ):\n\u001b[32m    498\u001b[39m     \u001b[38;5;28;01myield\u001b[39;00m event\n\u001b[32m    500\u001b[39m \u001b[38;5;28;01mif\u001b[39;00m output_final_result:\n",
      "\u001b[36mFile \u001b[39m\u001b[32m/usr/local/lib/python3.12/dist-packages/pydantic_ai/_agent_graph.py:684\u001b[39m, in \u001b[36mprocess_function_tools\u001b[39m\u001b[34m(tool_manager, tool_calls, final_result, ctx, output_parts, output_final_result)\u001b[39m\n\u001b[32m    682\u001b[39m \u001b[38;5;28;01mfor\u001b[39;00m task \u001b[38;5;129;01min\u001b[39;00m done:\n\u001b[32m    683\u001b[39m     index = tasks.index(task)\n\u001b[32m--> \u001b[39m\u001b[32m684\u001b[39m     tool_result_part, extra_parts = \u001b[43mtask\u001b[49m\u001b[43m.\u001b[49m\u001b[43mresult\u001b[49m\u001b[43m(\u001b[49m\u001b[43m)\u001b[49m\n\u001b[32m    685\u001b[39m     \u001b[38;5;28;01myield\u001b[39;00m _messages.FunctionToolResultEvent(tool_result_part)\n\u001b[32m    687\u001b[39m     parts_by_index[index] = [tool_result_part, *extra_parts]\n",
      "\u001b[36mFile \u001b[39m\u001b[32m/usr/local/lib/python3.12/dist-packages/pydantic_ai/_agent_graph.py:718\u001b[39m, in \u001b[36m_call_function_tool\u001b[39m\u001b[34m(tool_manager, tool_call)\u001b[39m\n\u001b[32m    713\u001b[39m \u001b[38;5;28;01masync\u001b[39;00m \u001b[38;5;28;01mdef\u001b[39;00m\u001b[38;5;250m \u001b[39m\u001b[34m_call_function_tool\u001b[39m(\n\u001b[32m    714\u001b[39m     tool_manager: ToolManager[DepsT],\n\u001b[32m    715\u001b[39m     tool_call: _messages.ToolCallPart,\n\u001b[32m    716\u001b[39m ) -> \u001b[38;5;28mtuple\u001b[39m[_messages.ToolReturnPart | _messages.RetryPromptPart, \u001b[38;5;28mlist\u001b[39m[_messages.ModelRequestPart]]:\n\u001b[32m    717\u001b[39m     \u001b[38;5;28;01mtry\u001b[39;00m:\n\u001b[32m--> \u001b[39m\u001b[32m718\u001b[39m         tool_result = \u001b[38;5;28;01mawait\u001b[39;00m tool_manager.handle_call(tool_call)\n\u001b[32m    719\u001b[39m     \u001b[38;5;28;01mexcept\u001b[39;00m ToolRetryError \u001b[38;5;28;01mas\u001b[39;00m e:\n\u001b[32m    720\u001b[39m         \u001b[38;5;28;01mreturn\u001b[39;00m (e.tool_retry, [])\n",
      "\u001b[36mFile \u001b[39m\u001b[32m/usr/local/lib/python3.12/dist-packages/pydantic_ai/_tool_manager.py:68\u001b[39m, in \u001b[36mToolManager.handle_call\u001b[39m\u001b[34m(self, call, allow_partial)\u001b[39m\n\u001b[32m     66\u001b[39m     \u001b[38;5;28;01mreturn\u001b[39;00m \u001b[38;5;28;01mawait\u001b[39;00m \u001b[38;5;28mself\u001b[39m._call_tool(call, allow_partial)\n\u001b[32m     67\u001b[39m \u001b[38;5;28;01melse\u001b[39;00m:\n\u001b[32m---> \u001b[39m\u001b[32m68\u001b[39m     \u001b[38;5;28;01mreturn\u001b[39;00m \u001b[38;5;28;01mawait\u001b[39;00m \u001b[38;5;28mself\u001b[39m._call_tool_traced(call, allow_partial)\n",
      "\u001b[36mFile \u001b[39m\u001b[32m/usr/local/lib/python3.12/dist-packages/pydantic_ai/_tool_manager.py:155\u001b[39m, in \u001b[36mToolManager._call_tool_traced\u001b[39m\u001b[34m(self, call, allow_partial)\u001b[39m\n\u001b[32m    153\u001b[39m \u001b[38;5;28;01mwith\u001b[39;00m \u001b[38;5;28mself\u001b[39m.ctx.tracer.start_as_current_span(\u001b[33m'\u001b[39m\u001b[33mrunning tool\u001b[39m\u001b[33m'\u001b[39m, attributes=span_attributes) \u001b[38;5;28;01mas\u001b[39;00m span:\n\u001b[32m    154\u001b[39m     \u001b[38;5;28;01mtry\u001b[39;00m:\n\u001b[32m--> \u001b[39m\u001b[32m155\u001b[39m         tool_result = \u001b[38;5;28;01mawait\u001b[39;00m \u001b[38;5;28mself\u001b[39m._call_tool(call, allow_partial)\n\u001b[32m    156\u001b[39m     \u001b[38;5;28;01mexcept\u001b[39;00m ToolRetryError \u001b[38;5;28;01mas\u001b[39;00m e:\n\u001b[32m    157\u001b[39m         part = e.tool_retry\n",
      "\u001b[36mFile \u001b[39m\u001b[32m/usr/local/lib/python3.12/dist-packages/pydantic_ai/_tool_manager.py:101\u001b[39m, in \u001b[36mToolManager._call_tool\u001b[39m\u001b[34m(self, call, allow_partial)\u001b[39m\n\u001b[32m     98\u001b[39m current_retry = \u001b[38;5;28mself\u001b[39m.ctx.retries.get(name, \u001b[32m0\u001b[39m)\n\u001b[32m    100\u001b[39m \u001b[38;5;28;01mif\u001b[39;00m current_retry == max_retries:\n\u001b[32m--> \u001b[39m\u001b[32m101\u001b[39m     \u001b[38;5;28;01mraise\u001b[39;00m UnexpectedModelBehavior(\u001b[33mf\u001b[39m\u001b[33m'\u001b[39m\u001b[33mTool \u001b[39m\u001b[38;5;132;01m{\u001b[39;00mname\u001b[38;5;132;01m!r}\u001b[39;00m\u001b[33m exceeded max retries count of \u001b[39m\u001b[38;5;132;01m{\u001b[39;00mmax_retries\u001b[38;5;132;01m}\u001b[39;00m\u001b[33m'\u001b[39m) \u001b[38;5;28;01mfrom\u001b[39;00m\u001b[38;5;250m \u001b[39m\u001b[34;01me\u001b[39;00m\n\u001b[32m    102\u001b[39m \u001b[38;5;28;01melse\u001b[39;00m:\n\u001b[32m    103\u001b[39m     \u001b[38;5;28;01mif\u001b[39;00m \u001b[38;5;28misinstance\u001b[39m(e, ValidationError):\n",
      "\u001b[31mUnexpectedModelBehavior\u001b[39m: Tool 'get_free_time_slots' exceeded max retries count of 1"
     ]
    }
   ],
   "source": [
    "import time\n",
    "\n",
    "start_time = time.time()\n",
    "result = await run_async(\"\"\"\n",
    "    Time Frame To Check:\n",
    "    'start_timeframe': '2025-07-17T00:00:00+05:30',\n",
    "    'end_timeframe': '2025-07-19T11:59:59+05:30',\n",
    "    'Duration (min)': 60\n",
    "\n",
    "    User's Involved In This Analysis: userone.amd@gmail.com, usertwo.amd@gmail.com and userthree.amd@gmail.com\n",
    "\n",
    "    Check for the most optimal timeframe slot.\n",
    "\"\"\")\n",
    "end_time = time.time()\n",
    "\n",
    "execution_time = end_time - start_time\n",
    "print(f\"Execution time: {execution_time:.3f} seconds\")\n",
    "print(f\"Result: {result}\")"
   ]
  },
  {
   "cell_type": "code",
   "execution_count": null,
   "id": "a3fea2fa-f417-4375-aa63-e493deb0b6d1",
   "metadata": {},
   "outputs": [],
   "source": [
    "# Define response model for meeting extraction\n",
    "from pydantic import BaseModel\n",
    "class MeetingTimeframe(BaseModel):\n",
    "    start_timeframe: Optional[str] = None  # When to start looking for slots\n",
    "    end_timeframe: Optional[str] = None    # When to stop looking for slots\n",
    "    duration_minutes: Optional[int] = None  # Duration of the meeting in minutes\n",
    "\n",
    "\n",
    "meeting_agent = Agent(\n",
    "    model,\n",
    "    output_type=MeetingTimeframe,\n",
    "    system_prompt=f\"\"\"\n",
    "    You are an expert at extracting meeting scheduling information from emails and messages.\n",
    "    \n",
    "    Current date, time and day: {current_date} - {datetime.now().strftime(\"%A\")}\n",
    "    \n",
    "    Your task is to analyze the content and extract meeting scheduling parameters:\n",
    "    \n",
    "    1. start_timeframe: The earliest date to start looking for meeting slots\n",
    "       - For \"today\": use current date\n",
    "       - For \"tomorrow\": use next day\n",
    "       - For day names (Monday, Tuesday, etc.): find the NEXT occurrence of that day\n",
    "       - For \"this week\": use current date\n",
    "       - For \"next week\": use date of next Monday\n",
    "       - For specific dates: parse and use as-is\n",
    "       - If no timeframe mentioned: default to current date\n",
    "       - Format: YYYY-MM-DDTHH:MM:SS+HH:MM\n",
    "    \n",
    "    2. end_timeframe: The latest date to stop looking for meeting slots\n",
    "       - If specific day mentioned: use same day as start_timeframe\n",
    "       - If \"this week\" mentioned: use end of current week (Friday)\n",
    "       - If \"next week\" mentioned: use end of next week (Friday)  \n",
    "       - If range mentioned (e.g., \"Monday to Wednesday\"): use end of range\n",
    "       - If no end specified: default to 7 days from start_timeframe\n",
    "       - Format: YYYY-MM-DDTHH:MM:SS+HH:MM\n",
    "    \n",
    "    3. duration_minutes: Meeting duration in minutes\n",
    "       - Parse explicit durations: \"30 minutes\", \"1 hour\", \"2 hours\"\n",
    "       - Convert hours to minutes: 1 hour = 60 minutes\n",
    "       - Common defaults: \"quick chat\" = 15 min, \"brief meeting\" = 30 min\n",
    "       - If no duration specified: default to 60 minutes\n",
    "    \n",
    "    Examples:\n",
    "    - \"Let's meet Thursday\" → start: next Thursday, end: same Thursday, duration: 60\n",
    "    - \"30 minute call this week\" → start: today, end: this Friday, duration: 30\n",
    "    - \"2 hour session tomorrow\" → start: tomorrow, end: tomorrow, duration: 120\n",
    "    - \"Meeting Monday to Wednesday\" → start: next Monday, end: next Wednesday, duration: 60\n",
    "\n",
    "    OUTPUT FORMAT EXAMPLE:\n",
    "    \n",
    "    \"StartTime\": \"2025-07-20T10:30:00+05:30\",\n",
    "    \"EndTime\": \"2025-07-20T11:00:00+05:30\",\n",
    "    \n",
    "    Be precise with date calculations and always consider the current date context.\n",
    "    \"\"\",\n",
    ")"
   ]
  },
  {
   "cell_type": "code",
   "execution_count": null,
   "id": "b3d751f6-ed6b-43d1-8375-037346e60131",
   "metadata": {},
   "outputs": [],
   "source": [
    "\n",
    "# Get current date for context\n",
    "current_date = datetime.now().strftime(\"%Y-%m-%d %H:%M:%S\")\n",
    "\n",
    "# Run the agent to extract meeting information\n",
    "result = await meeting_agent.run(\"Let's meet on Monday for 1 hour\")\n",
    "\n",
    "# Convert to dictionary for JSON serialization\n",
    "response_data = {\n",
    "    \"start_timeframe\": result.data.start_timeframe,\n",
    "    \"end_timeframe\": result.data.end_timeframe,\n",
    "    \"duration_minutes\": result.data.duration_minutes,\n",
    "    \"success\": True,\n",
    "    \"message\": \"Successfully extracted meeting timeframes\"\n",
    "}\n"
   ]
  },
  {
   "cell_type": "code",
   "execution_count": null,
   "id": "7cd027f5-aeb6-4064-aca2-08d58d9a5782",
   "metadata": {},
   "outputs": [],
   "source": [
    "response_data"
   ]
  },
  {
   "cell_type": "code",
   "execution_count": null,
   "id": "6fd0cc85-6423-4deb-913d-a6698fe40ecd",
   "metadata": {},
   "outputs": [],
   "source": [
    "current_date"
   ]
  },
  {
   "cell_type": "code",
   "execution_count": null,
   "id": "144a238a-28ee-40d3-84ee-ee0907e5b300",
   "metadata": {},
   "outputs": [],
   "source": []
  }
 ],
 "metadata": {
  "kernelspec": {
   "display_name": "Python 3 (ipykernel)",
   "language": "python",
   "name": "python3"
  },
  "language_info": {
   "codemirror_mode": {
    "name": "ipython",
    "version": 3
   },
   "file_extension": ".py",
   "mimetype": "text/x-python",
   "name": "python",
   "nbconvert_exporter": "python",
   "pygments_lexer": "ipython3",
   "version": "3.12.10"
  }
 },
 "nbformat": 4,
 "nbformat_minor": 5
}
