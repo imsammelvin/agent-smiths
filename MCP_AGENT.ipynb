{
 "cells": [
  {
   "cell_type": "code",
   "execution_count": 69,
   "id": "ae6727dd-5d19-42c4-a201-4e69c960863b",
   "metadata": {},
   "outputs": [
    {
     "name": "stdout",
     "output_type": "stream",
     "text": [
      "Config set: http://localhost:8000/v1\n"
     ]
    }
   ],
   "source": [
    "import os\n",
    "\n",
    "BASE_URL = f\"http://localhost:8000/v1\"\n",
    "\n",
    "os.environ[\"BASE_URL\"]    = BASE_URL\n",
    "os.environ[\"OPENAI_API_KEY\"] = \"abc-123\"   \n",
    "\n",
    "print(\"Config set:\", BASE_URL)"
   ]
  },
  {
   "cell_type": "code",
   "execution_count": 70,
   "id": "7dd926f5-0e8f-4ec1-895f-d875dec570f0",
   "metadata": {},
   "outputs": [
    {
     "name": "stdout",
     "output_type": "stream",
     "text": [
      "{\"object\":\"list\",\"data\":[{\"id\":\"Qwen3-8B\",\"object\":\"model\",\"created\":1752929458,\"owned_by\":\"vllm\",\"root\":\"Qwen/Qwen3-8B\",\"parent\":null,\"max_model_len\":40960,\"permission\":[{\"id\":\"modelperm-927d61e3bf774ef4af3b7a2f9a57e02c\",\"object\":\"model_permission\",\"created\":1752929458,\"allow_create_engine\":false,\"allow_sampling\":true,\"allow_logprobs\":true,\"allow_search_indices\":false,\"allow_view\":true,\"allow_fine_tuning\":false,\"organization\":\"*\",\"group\":null,\"is_blocking\":false}]}]}"
     ]
    }
   ],
   "source": [
    "!curl http://localhost:8000/v1/models -H \"Authorization: Bearer $OPENAI_API_KEY\""
   ]
  },
  {
   "cell_type": "code",
   "execution_count": 71,
   "id": "9bdd7ba5-c492-4d89-8895-99b604bc7f12",
   "metadata": {},
   "outputs": [],
   "source": [
    "from pydantic_ai import Agent\n",
    "from pydantic_ai.mcp import MCPServerSSE\n",
    "\n",
    "server = server = MCPServerSSE('http://localhost:8090/sse') "
   ]
  },
  {
   "cell_type": "code",
   "execution_count": 72,
   "id": "6d5f36e1-7d41-4d57-ae6e-a15ff3cf267b",
   "metadata": {},
   "outputs": [],
   "source": [
    "from pydantic_ai.models.openai import OpenAIModel\n",
    "from pydantic_ai.providers.openai import OpenAIProvider\n",
    "\n",
    "provider = OpenAIProvider(\n",
    "    base_url=os.environ[\"BASE_URL\"],\n",
    "    api_key=os.environ[\"OPENAI_API_KEY\"],\n",
    ")\n",
    "\n",
    "agent_model = OpenAIModel(\"Qwen3-8B\", provider=provider)"
   ]
  },
  {
   "cell_type": "code",
   "execution_count": 76,
   "id": "6b960746-2777-4489-a8e7-ccae6179a358",
   "metadata": {},
   "outputs": [],
   "source": [
    "from pydantic_ai import Agent\n",
    "\n",
    "agent = Agent(\n",
    "    model=agent_model,\n",
    "    toolsets=[server],\n",
    "    system_prompt = \"\"\"\n",
    "# AI Scheduling Assistant System Prompt\n",
    "\n",
    "You are an Agentic AI Scheduling Assistant designed to autonomously coordinate meetings with minimal human intervention. Your primary goal is to intelligently parse meeting requests, analyze calendar availability, and schedule optimal meeting times.\n",
    "\n",
    "## Core Capabilities\n",
    "\n",
    "You have access to the following tools:\n",
    "- `get_current_date()`: Get current date/time in ISO format\n",
    "- `retrieve_calendar_events(user, start, end)`: Fetch calendar events for any user within a date range\n",
    "\n",
    "## Primary Objectives\n",
    "\n",
    "1. **Autonomous Decision Making**: Make intelligent scheduling decisions without requiring human micromanagement\n",
    "2. **Conflict Resolution**: Identify and resolve scheduling conflicts intelligently\n",
    "3. **Natural Language Understanding**: Parse complex meeting requests from email content\n",
    "4. **Optimization**: Find the best available time slots considering all attendees' schedules\n",
    "\n",
    "## Input Processing Guidelines\n",
    "\n",
    "When you receive a meeting request JSON, extract and analyze:\n",
    "\n",
    "### Required Information Extraction:\n",
    "- **Participants**: All attendee email addresses (including the sender)\n",
    "- **Meeting Duration**: Parse from email content (look for phrases like \"30 minutes\", \"1 hour\", \"quick 15-min call\")\n",
    "- **Time Constraints**: Identify preferred days/times (\"Thursday\", \"next week\", \"morning\", \"afternoon\")\n",
    "- **Meeting Subject**: Use provided subject or derive from email content\n",
    "- **Priority Indicators**: Look for urgency markers (\"ASAP\", \"urgent\", \"important\")\n",
    "\n",
    "### Email Content Analysis Patterns:\n",
    "- Duration indicators: \"30 minutes\", \"1 hour\", \"quick call\", \"brief meeting\"\n",
    "- Time preferences: \"Thursday\", \"next week\", \"morning\", \"this week\", \"tomorrow\"\n",
    "- Meeting type: \"status update\", \"review\", \"planning\", \"sync\"\n",
    "\n",
    "## Scheduling Logic\n",
    "\n",
    "### 1. Calendar Analysis Process:\n",
    "- Retrieve events for ALL attendees for the relevant time period\n",
    "- Identify busy/free slots for each participant\n",
    "- Consider meeting duration requirements\n",
    "- Account for buffer time between meetings (15 minutes recommended)\n",
    "\n",
    "### 2. Optimal Time Selection:\n",
    "- Prioritize time slots when ALL attendees are free\n",
    "- Consider business hours (9 AM - 6 PM local time, adjust for time zones)\n",
    "- Prefer earlier slots if no preference specified\n",
    "- Avoid lunch hours (12 PM - 1 PM) unless explicitly requested\n",
    "- Respect common break times\n",
    "\n",
    "### 3. Conflict Resolution Strategy:\n",
    "- If perfect slot unavailable, prioritize the meeting organizer's availability\n",
    "- Consider attendee importance (senior roles, external participants)\n",
    "- Suggest alternative times if conflicts exist\n",
    "- Handle recurring meeting patterns intelligently\n",
    "\n",
    "## Time Zone Handling\n",
    "- Default to IST (Indian Standard Time, +05:30) for the hackathon context\n",
    "- Ensure all timestamps follow ISO 8601 format with timezone offset\n",
    "- Example: \"2025-07-24T10:30:00+05:30\"\n",
    "\n",
    "## Response Generation Rules\n",
    "\n",
    "### Output Structure Requirements:\n",
    "1. **Maintain Original Fields**: Preserve Request_id, Datetime, Location, From, Subject, EmailContent\n",
    "2. **Add Calendar Data**: Include all attendees with their existing calendar events\n",
    "3. **Insert New Meeting**: Add the scheduled meeting to all attendees' event lists\n",
    "4. **Specify Meeting Details**: Set EventStart, EventEnd, Duration_mins\n",
    "\n",
    "### Meeting Event Format:\n",
    "```json\n",
    "{\n",
    "    \"StartTime\": \"2025-07-24T10:30:00+05:30\",\n",
    "    \"EndTime\": \"2025-07-24T11:00:00+05:30\", \n",
    "    \"NumAttendees\": 3,\n",
    "    \"Attendees\": [\"email1\", \"email2\", \"email3\"],\n",
    "    \"Summary\": \"Meeting Subject\"\n",
    "}\n",
    "```\n",
    "\n",
    "## Decision-Making Framework\n",
    "\n",
    "### Priority Order:\n",
    "1. **All attendees available**: Schedule immediately\n",
    "2. **Majority available**: Proceed if organizer is free\n",
    "3. **Key conflicts**: Suggest alternative times\n",
    "4. **No good slots**: Recommend earliest possible time with rationale\n",
    "\n",
    "### Smart Defaults:\n",
    "- **Default duration**: 30 minutes if not specified\n",
    "- **Default time preference**: Next available business hour slot\n",
    "- **Buffer time**: 15 minutes between consecutive meetings\n",
    "- **Business hours**: 9:00 AM - 6:00 PM IST\n",
    "\n",
    "## Error Handling\n",
    "\n",
    "### Common Scenarios:\n",
    "- **Missing duration**: Default to 30 minutes\n",
    "- **Vague time constraints**: Use next business day\n",
    "- **Invalid email formats**: Flag but proceed with valid ones\n",
    "- **Calendar access errors**: Log and continue with available data\n",
    "\n",
    "### Fallback Strategies:\n",
    "- If calendar data unavailable, schedule based on common business hours\n",
    "- If time parsing fails, default to \"next available weekday morning\"\n",
    "- Always provide a valid output even with incomplete data\n",
    "\n",
    "## Response Time Requirements\n",
    "- **Target latency**: < 10 seconds total processing time\n",
    "- **Efficient API calls**: Batch calendar requests when possible\n",
    "- **Minimal LLM calls**: Make decisions programmatically when possible\n",
    "\n",
    "## Quality Assurance\n",
    "\n",
    "### Validation Checks:\n",
    "- Verify all attendees are included in the scheduled meeting\n",
    "- Ensure meeting duration matches requested length\n",
    "- Confirm no double-booking of critical attendees\n",
    "- Validate timestamp format and timezone consistency\n",
    "\n",
    "### Output Verification:\n",
    "- All required JSON fields are present\n",
    "- Meeting times are within business hours\n",
    "- No scheduling conflicts for the organizer\n",
    "- Attendee lists are consistent across all entries\n",
    "\n",
    "Remember: Your goal is to eliminate the back-and-forth of meeting coordination by making intelligent, autonomous scheduling decisions that consider all participants' constraints and preferences.\"\"\"\n",
    ")"
   ]
  },
  {
   "cell_type": "code",
   "execution_count": 77,
   "id": "dee8a839-b8fe-437c-8898-8283ee0b65dd",
   "metadata": {},
   "outputs": [],
   "source": [
    "import asyncio\n",
    "from pydantic_ai.mcp import MCPServerStdio\n",
    "async def run_async(prompt: str) -> str:\n",
    "    async with agent.run_mcp_servers():\n",
    "        result = await agent.run(prompt)\n",
    "        return result.output\n"
   ]
  },
  {
   "cell_type": "code",
   "execution_count": 79,
   "id": "d0c9204c-6ca3-45e3-a984-3c6517745412",
   "metadata": {},
   "outputs": [
    {
     "data": {
      "text/html": [
       "<pre style=\"white-space:pre;overflow-x:auto;line-height:normal;font-family:Menlo,'DejaVu Sans Mono',consolas,'Courier New',monospace\"><span style=\"color: #7fbfbf; text-decoration-color: #7fbfbf\">[07/19/25 12:57:54] </span><span style=\"color: #000080; text-decoration-color: #000080\">INFO    </span> HTTP Request: <span style=\"color: #808000; text-decoration-color: #808000; font-weight: bold\">GET</span> <span style=\"color: #0000ff; text-decoration-color: #0000ff; text-decoration: underline\">http://localhost:8090/sse</span> <span style=\"color: #008000; text-decoration-color: #008000\">\"HTTP/1.1 200 OK\"</span>          <a href=\"file:///usr/local/lib/python3.12/dist-packages/httpx/_client.py\" target=\"_blank\"><span style=\"color: #7f7f7f; text-decoration-color: #7f7f7f\">_client.py</span></a><span style=\"color: #7f7f7f; text-decoration-color: #7f7f7f\">:</span><a href=\"file:///usr/local/lib/python3.12/dist-packages/httpx/_client.py#1740\" target=\"_blank\"><span style=\"color: #7f7f7f; text-decoration-color: #7f7f7f\">1740</span></a>\n",
       "</pre>\n"
      ],
      "text/plain": [
       "\u001b[2;36m[07/19/25 12:57:54]\u001b[0m\u001b[2;36m \u001b[0m\u001b[34mINFO    \u001b[0m HTTP Request: \u001b[1;33mGET\u001b[0m \u001b[4;94mhttp://localhost:8090/sse\u001b[0m \u001b[32m\"HTTP/1.1 200 OK\"\u001b[0m          \u001b]8;id=699113;file:///usr/local/lib/python3.12/dist-packages/httpx/_client.py\u001b\\\u001b[2m_client.py\u001b[0m\u001b]8;;\u001b\\\u001b[2m:\u001b[0m\u001b]8;id=661768;file:///usr/local/lib/python3.12/dist-packages/httpx/_client.py#1740\u001b\\\u001b[2m1740\u001b[0m\u001b]8;;\u001b\\\n"
      ]
     },
     "metadata": {},
     "output_type": "display_data"
    },
    {
     "data": {
      "text/html": [
       "<pre style=\"white-space:pre;overflow-x:auto;line-height:normal;font-family:Menlo,'DejaVu Sans Mono',consolas,'Courier New',monospace\"><span style=\"color: #7fbfbf; text-decoration-color: #7fbfbf\">                    </span><span style=\"color: #000080; text-decoration-color: #000080\">INFO    </span> HTTP Request: <span style=\"color: #808000; text-decoration-color: #808000; font-weight: bold\">POST</span>                                                     <a href=\"file:///usr/local/lib/python3.12/dist-packages/httpx/_client.py\" target=\"_blank\"><span style=\"color: #7f7f7f; text-decoration-color: #7f7f7f\">_client.py</span></a><span style=\"color: #7f7f7f; text-decoration-color: #7f7f7f\">:</span><a href=\"file:///usr/local/lib/python3.12/dist-packages/httpx/_client.py#1740\" target=\"_blank\"><span style=\"color: #7f7f7f; text-decoration-color: #7f7f7f\">1740</span></a>\n",
       "<span style=\"color: #7fbfbf; text-decoration-color: #7fbfbf\">                    </span>         <span style=\"color: #0000ff; text-decoration-color: #0000ff; text-decoration: underline\">http://localhost:8090/messages/?session_id=72a8136eeb8b4a04a6dfb56334c</span> <span style=\"color: #7f7f7f; text-decoration-color: #7f7f7f\">               </span>\n",
       "<span style=\"color: #7fbfbf; text-decoration-color: #7fbfbf\">                    </span>         <span style=\"color: #0000ff; text-decoration-color: #0000ff; text-decoration: underline\">0c88c</span> <span style=\"color: #008000; text-decoration-color: #008000\">\"HTTP/1.1 202 Accepted\"</span>                                          <span style=\"color: #7f7f7f; text-decoration-color: #7f7f7f\">               </span>\n",
       "</pre>\n"
      ],
      "text/plain": [
       "\u001b[2;36m                   \u001b[0m\u001b[2;36m \u001b[0m\u001b[34mINFO    \u001b[0m HTTP Request: \u001b[1;33mPOST\u001b[0m                                                     \u001b]8;id=871840;file:///usr/local/lib/python3.12/dist-packages/httpx/_client.py\u001b\\\u001b[2m_client.py\u001b[0m\u001b]8;;\u001b\\\u001b[2m:\u001b[0m\u001b]8;id=467092;file:///usr/local/lib/python3.12/dist-packages/httpx/_client.py#1740\u001b\\\u001b[2m1740\u001b[0m\u001b]8;;\u001b\\\n",
       "\u001b[2;36m                    \u001b[0m         \u001b[4;94mhttp://localhost:8090/messages/?\u001b[0m\u001b[4;94msession_id\u001b[0m\u001b[4;94m=\u001b[0m\u001b[4;94m72a8136eeb8b4a04a6dfb56334c\u001b[0m \u001b[2m               \u001b[0m\n",
       "\u001b[2;36m                    \u001b[0m         \u001b[4;94m0c88c\u001b[0m \u001b[32m\"HTTP/1.1 202 Accepted\"\u001b[0m                                          \u001b[2m               \u001b[0m\n"
      ]
     },
     "metadata": {},
     "output_type": "display_data"
    },
    {
     "data": {
      "text/html": [
       "<pre style=\"white-space:pre;overflow-x:auto;line-height:normal;font-family:Menlo,'DejaVu Sans Mono',consolas,'Courier New',monospace\"><span style=\"color: #7fbfbf; text-decoration-color: #7fbfbf\">                    </span><span style=\"color: #000080; text-decoration-color: #000080\">INFO    </span> HTTP Request: <span style=\"color: #808000; text-decoration-color: #808000; font-weight: bold\">POST</span>                                                     <a href=\"file:///usr/local/lib/python3.12/dist-packages/httpx/_client.py\" target=\"_blank\"><span style=\"color: #7f7f7f; text-decoration-color: #7f7f7f\">_client.py</span></a><span style=\"color: #7f7f7f; text-decoration-color: #7f7f7f\">:</span><a href=\"file:///usr/local/lib/python3.12/dist-packages/httpx/_client.py#1740\" target=\"_blank\"><span style=\"color: #7f7f7f; text-decoration-color: #7f7f7f\">1740</span></a>\n",
       "<span style=\"color: #7fbfbf; text-decoration-color: #7fbfbf\">                    </span>         <span style=\"color: #0000ff; text-decoration-color: #0000ff; text-decoration: underline\">http://localhost:8090/messages/?session_id=72a8136eeb8b4a04a6dfb56334c</span> <span style=\"color: #7f7f7f; text-decoration-color: #7f7f7f\">               </span>\n",
       "<span style=\"color: #7fbfbf; text-decoration-color: #7fbfbf\">                    </span>         <span style=\"color: #0000ff; text-decoration-color: #0000ff; text-decoration: underline\">0c88c</span> <span style=\"color: #008000; text-decoration-color: #008000\">\"HTTP/1.1 202 Accepted\"</span>                                          <span style=\"color: #7f7f7f; text-decoration-color: #7f7f7f\">               </span>\n",
       "</pre>\n"
      ],
      "text/plain": [
       "\u001b[2;36m                   \u001b[0m\u001b[2;36m \u001b[0m\u001b[34mINFO    \u001b[0m HTTP Request: \u001b[1;33mPOST\u001b[0m                                                     \u001b]8;id=875582;file:///usr/local/lib/python3.12/dist-packages/httpx/_client.py\u001b\\\u001b[2m_client.py\u001b[0m\u001b]8;;\u001b\\\u001b[2m:\u001b[0m\u001b]8;id=303249;file:///usr/local/lib/python3.12/dist-packages/httpx/_client.py#1740\u001b\\\u001b[2m1740\u001b[0m\u001b]8;;\u001b\\\n",
       "\u001b[2;36m                    \u001b[0m         \u001b[4;94mhttp://localhost:8090/messages/?\u001b[0m\u001b[4;94msession_id\u001b[0m\u001b[4;94m=\u001b[0m\u001b[4;94m72a8136eeb8b4a04a6dfb56334c\u001b[0m \u001b[2m               \u001b[0m\n",
       "\u001b[2;36m                    \u001b[0m         \u001b[4;94m0c88c\u001b[0m \u001b[32m\"HTTP/1.1 202 Accepted\"\u001b[0m                                          \u001b[2m               \u001b[0m\n"
      ]
     },
     "metadata": {},
     "output_type": "display_data"
    },
    {
     "data": {
      "text/html": [
       "<pre style=\"white-space:pre;overflow-x:auto;line-height:normal;font-family:Menlo,'DejaVu Sans Mono',consolas,'Courier New',monospace\"><span style=\"color: #7fbfbf; text-decoration-color: #7fbfbf\">                    </span><span style=\"color: #000080; text-decoration-color: #000080\">INFO    </span> HTTP Request: <span style=\"color: #808000; text-decoration-color: #808000; font-weight: bold\">POST</span>                                                     <a href=\"file:///usr/local/lib/python3.12/dist-packages/httpx/_client.py\" target=\"_blank\"><span style=\"color: #7f7f7f; text-decoration-color: #7f7f7f\">_client.py</span></a><span style=\"color: #7f7f7f; text-decoration-color: #7f7f7f\">:</span><a href=\"file:///usr/local/lib/python3.12/dist-packages/httpx/_client.py#1740\" target=\"_blank\"><span style=\"color: #7f7f7f; text-decoration-color: #7f7f7f\">1740</span></a>\n",
       "<span style=\"color: #7fbfbf; text-decoration-color: #7fbfbf\">                    </span>         <span style=\"color: #0000ff; text-decoration-color: #0000ff; text-decoration: underline\">http://localhost:8090/messages/?session_id=72a8136eeb8b4a04a6dfb56334c</span> <span style=\"color: #7f7f7f; text-decoration-color: #7f7f7f\">               </span>\n",
       "<span style=\"color: #7fbfbf; text-decoration-color: #7fbfbf\">                    </span>         <span style=\"color: #0000ff; text-decoration-color: #0000ff; text-decoration: underline\">0c88c</span> <span style=\"color: #008000; text-decoration-color: #008000\">\"HTTP/1.1 202 Accepted\"</span>                                          <span style=\"color: #7f7f7f; text-decoration-color: #7f7f7f\">               </span>\n",
       "</pre>\n"
      ],
      "text/plain": [
       "\u001b[2;36m                   \u001b[0m\u001b[2;36m \u001b[0m\u001b[34mINFO    \u001b[0m HTTP Request: \u001b[1;33mPOST\u001b[0m                                                     \u001b]8;id=423004;file:///usr/local/lib/python3.12/dist-packages/httpx/_client.py\u001b\\\u001b[2m_client.py\u001b[0m\u001b]8;;\u001b\\\u001b[2m:\u001b[0m\u001b]8;id=449137;file:///usr/local/lib/python3.12/dist-packages/httpx/_client.py#1740\u001b\\\u001b[2m1740\u001b[0m\u001b]8;;\u001b\\\n",
       "\u001b[2;36m                    \u001b[0m         \u001b[4;94mhttp://localhost:8090/messages/?\u001b[0m\u001b[4;94msession_id\u001b[0m\u001b[4;94m=\u001b[0m\u001b[4;94m72a8136eeb8b4a04a6dfb56334c\u001b[0m \u001b[2m               \u001b[0m\n",
       "\u001b[2;36m                    \u001b[0m         \u001b[4;94m0c88c\u001b[0m \u001b[32m\"HTTP/1.1 202 Accepted\"\u001b[0m                                          \u001b[2m               \u001b[0m\n"
      ]
     },
     "metadata": {},
     "output_type": "display_data"
    },
    {
     "data": {
      "text/html": [
       "<pre style=\"white-space:pre;overflow-x:auto;line-height:normal;font-family:Menlo,'DejaVu Sans Mono',consolas,'Courier New',monospace\"><span style=\"color: #7fbfbf; text-decoration-color: #7fbfbf\">                    </span><span style=\"color: #000080; text-decoration-color: #000080\">INFO    </span> HTTP Request: <span style=\"color: #808000; text-decoration-color: #808000; font-weight: bold\">POST</span>                                                     <a href=\"file:///usr/local/lib/python3.12/dist-packages/httpx/_client.py\" target=\"_blank\"><span style=\"color: #7f7f7f; text-decoration-color: #7f7f7f\">_client.py</span></a><span style=\"color: #7f7f7f; text-decoration-color: #7f7f7f\">:</span><a href=\"file:///usr/local/lib/python3.12/dist-packages/httpx/_client.py#1740\" target=\"_blank\"><span style=\"color: #7f7f7f; text-decoration-color: #7f7f7f\">1740</span></a>\n",
       "<span style=\"color: #7fbfbf; text-decoration-color: #7fbfbf\">                    </span>         <span style=\"color: #0000ff; text-decoration-color: #0000ff; text-decoration: underline\">http://localhost:8090/messages/?session_id=72a8136eeb8b4a04a6dfb56334c</span> <span style=\"color: #7f7f7f; text-decoration-color: #7f7f7f\">               </span>\n",
       "<span style=\"color: #7fbfbf; text-decoration-color: #7fbfbf\">                    </span>         <span style=\"color: #0000ff; text-decoration-color: #0000ff; text-decoration: underline\">0c88c</span> <span style=\"color: #008000; text-decoration-color: #008000\">\"HTTP/1.1 202 Accepted\"</span>                                          <span style=\"color: #7f7f7f; text-decoration-color: #7f7f7f\">               </span>\n",
       "</pre>\n"
      ],
      "text/plain": [
       "\u001b[2;36m                   \u001b[0m\u001b[2;36m \u001b[0m\u001b[34mINFO    \u001b[0m HTTP Request: \u001b[1;33mPOST\u001b[0m                                                     \u001b]8;id=545925;file:///usr/local/lib/python3.12/dist-packages/httpx/_client.py\u001b\\\u001b[2m_client.py\u001b[0m\u001b]8;;\u001b\\\u001b[2m:\u001b[0m\u001b]8;id=215917;file:///usr/local/lib/python3.12/dist-packages/httpx/_client.py#1740\u001b\\\u001b[2m1740\u001b[0m\u001b]8;;\u001b\\\n",
       "\u001b[2;36m                    \u001b[0m         \u001b[4;94mhttp://localhost:8090/messages/?\u001b[0m\u001b[4;94msession_id\u001b[0m\u001b[4;94m=\u001b[0m\u001b[4;94m72a8136eeb8b4a04a6dfb56334c\u001b[0m \u001b[2m               \u001b[0m\n",
       "\u001b[2;36m                    \u001b[0m         \u001b[4;94m0c88c\u001b[0m \u001b[32m\"HTTP/1.1 202 Accepted\"\u001b[0m                                          \u001b[2m               \u001b[0m\n"
      ]
     },
     "metadata": {},
     "output_type": "display_data"
    },
    {
     "data": {
      "text/html": [
       "<pre style=\"white-space:pre;overflow-x:auto;line-height:normal;font-family:Menlo,'DejaVu Sans Mono',consolas,'Courier New',monospace\"><span style=\"color: #7fbfbf; text-decoration-color: #7fbfbf\">[07/19/25 12:57:58] </span><span style=\"color: #000080; text-decoration-color: #000080\">INFO    </span> HTTP Request: <span style=\"color: #808000; text-decoration-color: #808000; font-weight: bold\">POST</span> <span style=\"color: #0000ff; text-decoration-color: #0000ff; text-decoration: underline\">http://localhost:8000/v1/chat/completions</span> <span style=\"color: #008000; text-decoration-color: #008000\">\"HTTP/1.1</span> <a href=\"file:///usr/local/lib/python3.12/dist-packages/httpx/_client.py\" target=\"_blank\"><span style=\"color: #7f7f7f; text-decoration-color: #7f7f7f\">_client.py</span></a><span style=\"color: #7f7f7f; text-decoration-color: #7f7f7f\">:</span><a href=\"file:///usr/local/lib/python3.12/dist-packages/httpx/_client.py#1740\" target=\"_blank\"><span style=\"color: #7f7f7f; text-decoration-color: #7f7f7f\">1740</span></a>\n",
       "<span style=\"color: #7fbfbf; text-decoration-color: #7fbfbf\">                    </span>         <span style=\"color: #008000; text-decoration-color: #008000\">200 OK\"</span>                                                                <span style=\"color: #7f7f7f; text-decoration-color: #7f7f7f\">               </span>\n",
       "</pre>\n"
      ],
      "text/plain": [
       "\u001b[2;36m[07/19/25 12:57:58]\u001b[0m\u001b[2;36m \u001b[0m\u001b[34mINFO    \u001b[0m HTTP Request: \u001b[1;33mPOST\u001b[0m \u001b[4;94mhttp://localhost:8000/v1/chat/completions\u001b[0m \u001b[32m\"HTTP/1.1\u001b[0m \u001b]8;id=586507;file:///usr/local/lib/python3.12/dist-packages/httpx/_client.py\u001b\\\u001b[2m_client.py\u001b[0m\u001b]8;;\u001b\\\u001b[2m:\u001b[0m\u001b]8;id=484857;file:///usr/local/lib/python3.12/dist-packages/httpx/_client.py#1740\u001b\\\u001b[2m1740\u001b[0m\u001b]8;;\u001b\\\n",
       "\u001b[2;36m                    \u001b[0m         \u001b[32m200 OK\"\u001b[0m                                                                \u001b[2m               \u001b[0m\n"
      ]
     },
     "metadata": {},
     "output_type": "display_data"
    },
    {
     "data": {
      "text/html": [
       "<pre style=\"white-space:pre;overflow-x:auto;line-height:normal;font-family:Menlo,'DejaVu Sans Mono',consolas,'Courier New',monospace\"><span style=\"color: #7fbfbf; text-decoration-color: #7fbfbf\">                    </span><span style=\"color: #000080; text-decoration-color: #000080\">INFO    </span> HTTP Request: <span style=\"color: #808000; text-decoration-color: #808000; font-weight: bold\">POST</span>                                                     <a href=\"file:///usr/local/lib/python3.12/dist-packages/httpx/_client.py\" target=\"_blank\"><span style=\"color: #7f7f7f; text-decoration-color: #7f7f7f\">_client.py</span></a><span style=\"color: #7f7f7f; text-decoration-color: #7f7f7f\">:</span><a href=\"file:///usr/local/lib/python3.12/dist-packages/httpx/_client.py#1740\" target=\"_blank\"><span style=\"color: #7f7f7f; text-decoration-color: #7f7f7f\">1740</span></a>\n",
       "<span style=\"color: #7fbfbf; text-decoration-color: #7fbfbf\">                    </span>         <span style=\"color: #0000ff; text-decoration-color: #0000ff; text-decoration: underline\">http://localhost:8090/messages/?session_id=72a8136eeb8b4a04a6dfb56334c</span> <span style=\"color: #7f7f7f; text-decoration-color: #7f7f7f\">               </span>\n",
       "<span style=\"color: #7fbfbf; text-decoration-color: #7fbfbf\">                    </span>         <span style=\"color: #0000ff; text-decoration-color: #0000ff; text-decoration: underline\">0c88c</span> <span style=\"color: #008000; text-decoration-color: #008000\">\"HTTP/1.1 202 Accepted\"</span>                                          <span style=\"color: #7f7f7f; text-decoration-color: #7f7f7f\">               </span>\n",
       "</pre>\n"
      ],
      "text/plain": [
       "\u001b[2;36m                   \u001b[0m\u001b[2;36m \u001b[0m\u001b[34mINFO    \u001b[0m HTTP Request: \u001b[1;33mPOST\u001b[0m                                                     \u001b]8;id=403795;file:///usr/local/lib/python3.12/dist-packages/httpx/_client.py\u001b\\\u001b[2m_client.py\u001b[0m\u001b]8;;\u001b\\\u001b[2m:\u001b[0m\u001b]8;id=922569;file:///usr/local/lib/python3.12/dist-packages/httpx/_client.py#1740\u001b\\\u001b[2m1740\u001b[0m\u001b]8;;\u001b\\\n",
       "\u001b[2;36m                    \u001b[0m         \u001b[4;94mhttp://localhost:8090/messages/?\u001b[0m\u001b[4;94msession_id\u001b[0m\u001b[4;94m=\u001b[0m\u001b[4;94m72a8136eeb8b4a04a6dfb56334c\u001b[0m \u001b[2m               \u001b[0m\n",
       "\u001b[2;36m                    \u001b[0m         \u001b[4;94m0c88c\u001b[0m \u001b[32m\"HTTP/1.1 202 Accepted\"\u001b[0m                                          \u001b[2m               \u001b[0m\n"
      ]
     },
     "metadata": {},
     "output_type": "display_data"
    },
    {
     "data": {
      "text/html": [
       "<pre style=\"white-space:pre;overflow-x:auto;line-height:normal;font-family:Menlo,'DejaVu Sans Mono',consolas,'Courier New',monospace\"><span style=\"color: #7fbfbf; text-decoration-color: #7fbfbf\">                    </span><span style=\"color: #000080; text-decoration-color: #000080\">INFO    </span> HTTP Request: <span style=\"color: #808000; text-decoration-color: #808000; font-weight: bold\">POST</span>                                                     <a href=\"file:///usr/local/lib/python3.12/dist-packages/httpx/_client.py\" target=\"_blank\"><span style=\"color: #7f7f7f; text-decoration-color: #7f7f7f\">_client.py</span></a><span style=\"color: #7f7f7f; text-decoration-color: #7f7f7f\">:</span><a href=\"file:///usr/local/lib/python3.12/dist-packages/httpx/_client.py#1740\" target=\"_blank\"><span style=\"color: #7f7f7f; text-decoration-color: #7f7f7f\">1740</span></a>\n",
       "<span style=\"color: #7fbfbf; text-decoration-color: #7fbfbf\">                    </span>         <span style=\"color: #0000ff; text-decoration-color: #0000ff; text-decoration: underline\">http://localhost:8090/messages/?session_id=72a8136eeb8b4a04a6dfb56334c</span> <span style=\"color: #7f7f7f; text-decoration-color: #7f7f7f\">               </span>\n",
       "<span style=\"color: #7fbfbf; text-decoration-color: #7fbfbf\">                    </span>         <span style=\"color: #0000ff; text-decoration-color: #0000ff; text-decoration: underline\">0c88c</span> <span style=\"color: #008000; text-decoration-color: #008000\">\"HTTP/1.1 202 Accepted\"</span>                                          <span style=\"color: #7f7f7f; text-decoration-color: #7f7f7f\">               </span>\n",
       "</pre>\n"
      ],
      "text/plain": [
       "\u001b[2;36m                   \u001b[0m\u001b[2;36m \u001b[0m\u001b[34mINFO    \u001b[0m HTTP Request: \u001b[1;33mPOST\u001b[0m                                                     \u001b]8;id=707278;file:///usr/local/lib/python3.12/dist-packages/httpx/_client.py\u001b\\\u001b[2m_client.py\u001b[0m\u001b]8;;\u001b\\\u001b[2m:\u001b[0m\u001b]8;id=557263;file:///usr/local/lib/python3.12/dist-packages/httpx/_client.py#1740\u001b\\\u001b[2m1740\u001b[0m\u001b]8;;\u001b\\\n",
       "\u001b[2;36m                    \u001b[0m         \u001b[4;94mhttp://localhost:8090/messages/?\u001b[0m\u001b[4;94msession_id\u001b[0m\u001b[4;94m=\u001b[0m\u001b[4;94m72a8136eeb8b4a04a6dfb56334c\u001b[0m \u001b[2m               \u001b[0m\n",
       "\u001b[2;36m                    \u001b[0m         \u001b[4;94m0c88c\u001b[0m \u001b[32m\"HTTP/1.1 202 Accepted\"\u001b[0m                                          \u001b[2m               \u001b[0m\n"
      ]
     },
     "metadata": {},
     "output_type": "display_data"
    },
    {
     "data": {
      "text/html": [
       "<pre style=\"white-space:pre;overflow-x:auto;line-height:normal;font-family:Menlo,'DejaVu Sans Mono',consolas,'Courier New',monospace\"><span style=\"color: #7fbfbf; text-decoration-color: #7fbfbf\">[07/19/25 12:58:04] </span><span style=\"color: #000080; text-decoration-color: #000080\">INFO    </span> HTTP Request: <span style=\"color: #808000; text-decoration-color: #808000; font-weight: bold\">POST</span> <span style=\"color: #0000ff; text-decoration-color: #0000ff; text-decoration: underline\">http://localhost:8000/v1/chat/completions</span> <span style=\"color: #008000; text-decoration-color: #008000\">\"HTTP/1.1</span> <a href=\"file:///usr/local/lib/python3.12/dist-packages/httpx/_client.py\" target=\"_blank\"><span style=\"color: #7f7f7f; text-decoration-color: #7f7f7f\">_client.py</span></a><span style=\"color: #7f7f7f; text-decoration-color: #7f7f7f\">:</span><a href=\"file:///usr/local/lib/python3.12/dist-packages/httpx/_client.py#1740\" target=\"_blank\"><span style=\"color: #7f7f7f; text-decoration-color: #7f7f7f\">1740</span></a>\n",
       "<span style=\"color: #7fbfbf; text-decoration-color: #7fbfbf\">                    </span>         <span style=\"color: #008000; text-decoration-color: #008000\">200 OK\"</span>                                                                <span style=\"color: #7f7f7f; text-decoration-color: #7f7f7f\">               </span>\n",
       "</pre>\n"
      ],
      "text/plain": [
       "\u001b[2;36m[07/19/25 12:58:04]\u001b[0m\u001b[2;36m \u001b[0m\u001b[34mINFO    \u001b[0m HTTP Request: \u001b[1;33mPOST\u001b[0m \u001b[4;94mhttp://localhost:8000/v1/chat/completions\u001b[0m \u001b[32m\"HTTP/1.1\u001b[0m \u001b]8;id=694330;file:///usr/local/lib/python3.12/dist-packages/httpx/_client.py\u001b\\\u001b[2m_client.py\u001b[0m\u001b]8;;\u001b\\\u001b[2m:\u001b[0m\u001b]8;id=91658;file:///usr/local/lib/python3.12/dist-packages/httpx/_client.py#1740\u001b\\\u001b[2m1740\u001b[0m\u001b]8;;\u001b\\\n",
       "\u001b[2;36m                    \u001b[0m         \u001b[32m200 OK\"\u001b[0m                                                                \u001b[2m               \u001b[0m\n"
      ]
     },
     "metadata": {},
     "output_type": "display_data"
    },
    {
     "data": {
      "text/html": [
       "<pre style=\"white-space:pre;overflow-x:auto;line-height:normal;font-family:Menlo,'DejaVu Sans Mono',consolas,'Courier New',monospace\"><span style=\"color: #7fbfbf; text-decoration-color: #7fbfbf\">                    </span><span style=\"color: #000080; text-decoration-color: #000080\">INFO    </span> HTTP Request: <span style=\"color: #808000; text-decoration-color: #808000; font-weight: bold\">POST</span>                                                     <a href=\"file:///usr/local/lib/python3.12/dist-packages/httpx/_client.py\" target=\"_blank\"><span style=\"color: #7f7f7f; text-decoration-color: #7f7f7f\">_client.py</span></a><span style=\"color: #7f7f7f; text-decoration-color: #7f7f7f\">:</span><a href=\"file:///usr/local/lib/python3.12/dist-packages/httpx/_client.py#1740\" target=\"_blank\"><span style=\"color: #7f7f7f; text-decoration-color: #7f7f7f\">1740</span></a>\n",
       "<span style=\"color: #7fbfbf; text-decoration-color: #7fbfbf\">                    </span>         <span style=\"color: #0000ff; text-decoration-color: #0000ff; text-decoration: underline\">http://localhost:8090/messages/?session_id=72a8136eeb8b4a04a6dfb56334c</span> <span style=\"color: #7f7f7f; text-decoration-color: #7f7f7f\">               </span>\n",
       "<span style=\"color: #7fbfbf; text-decoration-color: #7fbfbf\">                    </span>         <span style=\"color: #0000ff; text-decoration-color: #0000ff; text-decoration: underline\">0c88c</span> <span style=\"color: #008000; text-decoration-color: #008000\">\"HTTP/1.1 202 Accepted\"</span>                                          <span style=\"color: #7f7f7f; text-decoration-color: #7f7f7f\">               </span>\n",
       "</pre>\n"
      ],
      "text/plain": [
       "\u001b[2;36m                   \u001b[0m\u001b[2;36m \u001b[0m\u001b[34mINFO    \u001b[0m HTTP Request: \u001b[1;33mPOST\u001b[0m                                                     \u001b]8;id=352210;file:///usr/local/lib/python3.12/dist-packages/httpx/_client.py\u001b\\\u001b[2m_client.py\u001b[0m\u001b]8;;\u001b\\\u001b[2m:\u001b[0m\u001b]8;id=51158;file:///usr/local/lib/python3.12/dist-packages/httpx/_client.py#1740\u001b\\\u001b[2m1740\u001b[0m\u001b]8;;\u001b\\\n",
       "\u001b[2;36m                    \u001b[0m         \u001b[4;94mhttp://localhost:8090/messages/?\u001b[0m\u001b[4;94msession_id\u001b[0m\u001b[4;94m=\u001b[0m\u001b[4;94m72a8136eeb8b4a04a6dfb56334c\u001b[0m \u001b[2m               \u001b[0m\n",
       "\u001b[2;36m                    \u001b[0m         \u001b[4;94m0c88c\u001b[0m \u001b[32m\"HTTP/1.1 202 Accepted\"\u001b[0m                                          \u001b[2m               \u001b[0m\n"
      ]
     },
     "metadata": {},
     "output_type": "display_data"
    },
    {
     "data": {
      "text/html": [
       "<pre style=\"white-space:pre;overflow-x:auto;line-height:normal;font-family:Menlo,'DejaVu Sans Mono',consolas,'Courier New',monospace\"><span style=\"color: #7fbfbf; text-decoration-color: #7fbfbf\">                    </span><span style=\"color: #000080; text-decoration-color: #000080\">INFO    </span> HTTP Request: <span style=\"color: #808000; text-decoration-color: #808000; font-weight: bold\">POST</span>                                                     <a href=\"file:///usr/local/lib/python3.12/dist-packages/httpx/_client.py\" target=\"_blank\"><span style=\"color: #7f7f7f; text-decoration-color: #7f7f7f\">_client.py</span></a><span style=\"color: #7f7f7f; text-decoration-color: #7f7f7f\">:</span><a href=\"file:///usr/local/lib/python3.12/dist-packages/httpx/_client.py#1740\" target=\"_blank\"><span style=\"color: #7f7f7f; text-decoration-color: #7f7f7f\">1740</span></a>\n",
       "<span style=\"color: #7fbfbf; text-decoration-color: #7fbfbf\">                    </span>         <span style=\"color: #0000ff; text-decoration-color: #0000ff; text-decoration: underline\">http://localhost:8090/messages/?session_id=72a8136eeb8b4a04a6dfb56334c</span> <span style=\"color: #7f7f7f; text-decoration-color: #7f7f7f\">               </span>\n",
       "<span style=\"color: #7fbfbf; text-decoration-color: #7fbfbf\">                    </span>         <span style=\"color: #0000ff; text-decoration-color: #0000ff; text-decoration: underline\">0c88c</span> <span style=\"color: #008000; text-decoration-color: #008000\">\"HTTP/1.1 202 Accepted\"</span>                                          <span style=\"color: #7f7f7f; text-decoration-color: #7f7f7f\">               </span>\n",
       "</pre>\n"
      ],
      "text/plain": [
       "\u001b[2;36m                   \u001b[0m\u001b[2;36m \u001b[0m\u001b[34mINFO    \u001b[0m HTTP Request: \u001b[1;33mPOST\u001b[0m                                                     \u001b]8;id=231650;file:///usr/local/lib/python3.12/dist-packages/httpx/_client.py\u001b\\\u001b[2m_client.py\u001b[0m\u001b]8;;\u001b\\\u001b[2m:\u001b[0m\u001b]8;id=822474;file:///usr/local/lib/python3.12/dist-packages/httpx/_client.py#1740\u001b\\\u001b[2m1740\u001b[0m\u001b]8;;\u001b\\\n",
       "\u001b[2;36m                    \u001b[0m         \u001b[4;94mhttp://localhost:8090/messages/?\u001b[0m\u001b[4;94msession_id\u001b[0m\u001b[4;94m=\u001b[0m\u001b[4;94m72a8136eeb8b4a04a6dfb56334c\u001b[0m \u001b[2m               \u001b[0m\n",
       "\u001b[2;36m                    \u001b[0m         \u001b[4;94m0c88c\u001b[0m \u001b[32m\"HTTP/1.1 202 Accepted\"\u001b[0m                                          \u001b[2m               \u001b[0m\n"
      ]
     },
     "metadata": {},
     "output_type": "display_data"
    },
    {
     "data": {
      "text/html": [
       "<pre style=\"white-space:pre;overflow-x:auto;line-height:normal;font-family:Menlo,'DejaVu Sans Mono',consolas,'Courier New',monospace\"><span style=\"color: #7fbfbf; text-decoration-color: #7fbfbf\">[07/19/25 12:58:05] </span><span style=\"color: #000080; text-decoration-color: #000080\">INFO    </span> HTTP Request: <span style=\"color: #808000; text-decoration-color: #808000; font-weight: bold\">POST</span>                                                     <a href=\"file:///usr/local/lib/python3.12/dist-packages/httpx/_client.py\" target=\"_blank\"><span style=\"color: #7f7f7f; text-decoration-color: #7f7f7f\">_client.py</span></a><span style=\"color: #7f7f7f; text-decoration-color: #7f7f7f\">:</span><a href=\"file:///usr/local/lib/python3.12/dist-packages/httpx/_client.py#1740\" target=\"_blank\"><span style=\"color: #7f7f7f; text-decoration-color: #7f7f7f\">1740</span></a>\n",
       "<span style=\"color: #7fbfbf; text-decoration-color: #7fbfbf\">                    </span>         <span style=\"color: #0000ff; text-decoration-color: #0000ff; text-decoration: underline\">http://localhost:8090/messages/?session_id=72a8136eeb8b4a04a6dfb56334c</span> <span style=\"color: #7f7f7f; text-decoration-color: #7f7f7f\">               </span>\n",
       "<span style=\"color: #7fbfbf; text-decoration-color: #7fbfbf\">                    </span>         <span style=\"color: #0000ff; text-decoration-color: #0000ff; text-decoration: underline\">0c88c</span> <span style=\"color: #008000; text-decoration-color: #008000\">\"HTTP/1.1 202 Accepted\"</span>                                          <span style=\"color: #7f7f7f; text-decoration-color: #7f7f7f\">               </span>\n",
       "</pre>\n"
      ],
      "text/plain": [
       "\u001b[2;36m[07/19/25 12:58:05]\u001b[0m\u001b[2;36m \u001b[0m\u001b[34mINFO    \u001b[0m HTTP Request: \u001b[1;33mPOST\u001b[0m                                                     \u001b]8;id=34152;file:///usr/local/lib/python3.12/dist-packages/httpx/_client.py\u001b\\\u001b[2m_client.py\u001b[0m\u001b]8;;\u001b\\\u001b[2m:\u001b[0m\u001b]8;id=246330;file:///usr/local/lib/python3.12/dist-packages/httpx/_client.py#1740\u001b\\\u001b[2m1740\u001b[0m\u001b]8;;\u001b\\\n",
       "\u001b[2;36m                    \u001b[0m         \u001b[4;94mhttp://localhost:8090/messages/?\u001b[0m\u001b[4;94msession_id\u001b[0m\u001b[4;94m=\u001b[0m\u001b[4;94m72a8136eeb8b4a04a6dfb56334c\u001b[0m \u001b[2m               \u001b[0m\n",
       "\u001b[2;36m                    \u001b[0m         \u001b[4;94m0c88c\u001b[0m \u001b[32m\"HTTP/1.1 202 Accepted\"\u001b[0m                                          \u001b[2m               \u001b[0m\n"
      ]
     },
     "metadata": {},
     "output_type": "display_data"
    },
    {
     "data": {
      "text/html": [
       "<pre style=\"white-space:pre;overflow-x:auto;line-height:normal;font-family:Menlo,'DejaVu Sans Mono',consolas,'Courier New',monospace\"><span style=\"color: #7fbfbf; text-decoration-color: #7fbfbf\">                    </span><span style=\"color: #000080; text-decoration-color: #000080\">INFO    </span> HTTP Request: <span style=\"color: #808000; text-decoration-color: #808000; font-weight: bold\">POST</span>                                                     <a href=\"file:///usr/local/lib/python3.12/dist-packages/httpx/_client.py\" target=\"_blank\"><span style=\"color: #7f7f7f; text-decoration-color: #7f7f7f\">_client.py</span></a><span style=\"color: #7f7f7f; text-decoration-color: #7f7f7f\">:</span><a href=\"file:///usr/local/lib/python3.12/dist-packages/httpx/_client.py#1740\" target=\"_blank\"><span style=\"color: #7f7f7f; text-decoration-color: #7f7f7f\">1740</span></a>\n",
       "<span style=\"color: #7fbfbf; text-decoration-color: #7fbfbf\">                    </span>         <span style=\"color: #0000ff; text-decoration-color: #0000ff; text-decoration: underline\">http://localhost:8090/messages/?session_id=72a8136eeb8b4a04a6dfb56334c</span> <span style=\"color: #7f7f7f; text-decoration-color: #7f7f7f\">               </span>\n",
       "<span style=\"color: #7fbfbf; text-decoration-color: #7fbfbf\">                    </span>         <span style=\"color: #0000ff; text-decoration-color: #0000ff; text-decoration: underline\">0c88c</span> <span style=\"color: #008000; text-decoration-color: #008000\">\"HTTP/1.1 202 Accepted\"</span>                                          <span style=\"color: #7f7f7f; text-decoration-color: #7f7f7f\">               </span>\n",
       "</pre>\n"
      ],
      "text/plain": [
       "\u001b[2;36m                   \u001b[0m\u001b[2;36m \u001b[0m\u001b[34mINFO    \u001b[0m HTTP Request: \u001b[1;33mPOST\u001b[0m                                                     \u001b]8;id=588697;file:///usr/local/lib/python3.12/dist-packages/httpx/_client.py\u001b\\\u001b[2m_client.py\u001b[0m\u001b]8;;\u001b\\\u001b[2m:\u001b[0m\u001b]8;id=39134;file:///usr/local/lib/python3.12/dist-packages/httpx/_client.py#1740\u001b\\\u001b[2m1740\u001b[0m\u001b]8;;\u001b\\\n",
       "\u001b[2;36m                    \u001b[0m         \u001b[4;94mhttp://localhost:8090/messages/?\u001b[0m\u001b[4;94msession_id\u001b[0m\u001b[4;94m=\u001b[0m\u001b[4;94m72a8136eeb8b4a04a6dfb56334c\u001b[0m \u001b[2m               \u001b[0m\n",
       "\u001b[2;36m                    \u001b[0m         \u001b[4;94m0c88c\u001b[0m \u001b[32m\"HTTP/1.1 202 Accepted\"\u001b[0m                                          \u001b[2m               \u001b[0m\n"
      ]
     },
     "metadata": {},
     "output_type": "display_data"
    },
    {
     "data": {
      "text/html": [
       "<pre style=\"white-space:pre;overflow-x:auto;line-height:normal;font-family:Menlo,'DejaVu Sans Mono',consolas,'Courier New',monospace\"><span style=\"color: #7fbfbf; text-decoration-color: #7fbfbf\">[07/19/25 12:58:38] </span><span style=\"color: #000080; text-decoration-color: #000080\">INFO    </span> HTTP Request: <span style=\"color: #808000; text-decoration-color: #808000; font-weight: bold\">POST</span> <span style=\"color: #0000ff; text-decoration-color: #0000ff; text-decoration: underline\">http://localhost:8000/v1/chat/completions</span> <span style=\"color: #008000; text-decoration-color: #008000\">\"HTTP/1.1</span> <a href=\"file:///usr/local/lib/python3.12/dist-packages/httpx/_client.py\" target=\"_blank\"><span style=\"color: #7f7f7f; text-decoration-color: #7f7f7f\">_client.py</span></a><span style=\"color: #7f7f7f; text-decoration-color: #7f7f7f\">:</span><a href=\"file:///usr/local/lib/python3.12/dist-packages/httpx/_client.py#1740\" target=\"_blank\"><span style=\"color: #7f7f7f; text-decoration-color: #7f7f7f\">1740</span></a>\n",
       "<span style=\"color: #7fbfbf; text-decoration-color: #7fbfbf\">                    </span>         <span style=\"color: #008000; text-decoration-color: #008000\">200 OK\"</span>                                                                <span style=\"color: #7f7f7f; text-decoration-color: #7f7f7f\">               </span>\n",
       "</pre>\n"
      ],
      "text/plain": [
       "\u001b[2;36m[07/19/25 12:58:38]\u001b[0m\u001b[2;36m \u001b[0m\u001b[34mINFO    \u001b[0m HTTP Request: \u001b[1;33mPOST\u001b[0m \u001b[4;94mhttp://localhost:8000/v1/chat/completions\u001b[0m \u001b[32m\"HTTP/1.1\u001b[0m \u001b]8;id=329345;file:///usr/local/lib/python3.12/dist-packages/httpx/_client.py\u001b\\\u001b[2m_client.py\u001b[0m\u001b]8;;\u001b\\\u001b[2m:\u001b[0m\u001b]8;id=333538;file:///usr/local/lib/python3.12/dist-packages/httpx/_client.py#1740\u001b\\\u001b[2m1740\u001b[0m\u001b]8;;\u001b\\\n",
       "\u001b[2;36m                    \u001b[0m         \u001b[32m200 OK\"\u001b[0m                                                                \u001b[2m               \u001b[0m\n"
      ]
     },
     "metadata": {},
     "output_type": "display_data"
    },
    {
     "data": {
      "text/plain": [
       "'\\n\\n{\\n    \"Request_id\": \"6118b54f-907b-4451-8d48-dd13d76033a5\",\\n    \"Datetime\": \"19-07-2025T12:34:55\",\\n    \"Location\": \"IISc Bangalore\",\\n    \"From\": \"userone.amd@gmail.com\",\\n    \"Attendees\": [\\n        {\\n            \"email\": \"usertwo.amd@gmail.com\"\\n        },\\n        {\\n            \"email\": \"userthree.amd@gmail.com\"\\n        }\\n    ],\\n    \"Subject\": \"Agentic AI Project Status Update\",\\n    \"EmailContent\": \"Hi team, let\\'s meet on Thursday for 30 minutes to discuss the status of Agentic AI Project.\",\\n    \"CalendarData\": {\\n        \"userone.amd@gmail.com\": [\\n            {\"StartTime\":\"2025-07-20T07:45:00+05:30\",\"EndTime\":\"2025-07-20T08:15:00+05:30\",\"NumAttendees\":4,\"Attendees\":[\"userthree.amd@gmail.com\",\"usertwo.amd@gmail.com\",\"team@amd.com\",\"userone.amd@gmail.com\"],\"Summary\":\"Agentic AI Project Status Update\"},\\n            {\"StartTime\":\"2025-07-20T08:30:00+05:30\",\"EndTime\":\"2025-07-20T09:00:00+05:30\",\"NumAttendees\":4,\"Attendees\":[\"userthree.amd@gmail.com\",\"usertwo.amd@gmail.com\",\"team@amd.com\",\"userone.amd@gmail.com\"],\"Summary\":\"Agentic AI Project Status Update\"},\\n            {\"StartTime\":\"2025-07-20T09:15:00+05:30\",\"EndTime\":\"2025-07-20T09:45:00+05:30\",\"NumAttendees\":4,\"Attendees\":[\"userthree.amd@gmail.com\",\"usertwo.amd@gmail.com\",\"team@amd.com\",\"userone.amd@gmail.com\"],\"Summary\":\"Agentic AI Project Status Update\"},\\n            {\"StartTime\":\"2025-07-20T10:00:00+05:30\",\"EndTime\":\"2025-07-20T10:30:00+05:30\",\"NumAttendees\":4,\"Attendees\":[\"userthree.amd@gmail.com\",\"usertwo.amd@gmail.com\",\"team@amd.com\",\"userone.amd@gmail.com\"],\"Summary\":\"Agentic AI Project Status Update\"},\\n            {\"StartTime\":\"2025-07-20T10:45:00+05:30\",\"EndTime\":\"2025-07-20T11:15:00+05:30\",\"NumAttendees\":4,\"Attendees\":[\"userthree.amd@gmail.com\",\"usertwo.amd@gmail.com\",\"team@amd.com\",\"userone.amd@gmail.com\"],\"Summary\":\"Agentic AI Project Status Update\"},\\n            {\"StartTime\":\"2025-07-20T11:30:00+05:30\",\"EndTime\":\"2025-07-20T12:00:00+05:30\",\"NumAttendees\":4,\"Attendees\":[\"userthree.amd@gmail.com\",\"usertwo.amd@gmail.com\",\"team@amd.com\",\"userone.amd@gmail.com\"],\"Summary\":\"Agentic AI Project Status Update\"},\\n            {\"StartTime\":\"2025-07-20T12:15:00+05:30\",\"EndTime\":\"2025-07-20T12:45:00+05:30\",\"NumAttendees\":4,\"Attendees\":[\"userthree.amd@gmail.com\",\"usertwo.amd@gmail.com\",\"team@amd.com\",\"userone.amd@gmail.com\"],\"Summary\":\"Agentic AI Project Status Update\"},\\n            {\"StartTime\":\"2025-07-21T09:00:00+05:30\",\"EndTime\":\"2025-07-21T10:00:00+05:30\",\"NumAttendees\":0,\"Attendees\":[],\"Summary\":\"1v1 with Team Member\"},\\n            {\"StartTime\":\"2025-07-22T09:00:00+05:30\",\"EndTime\":\"2025-07-22T17:00:00+05:30\",\"NumAttendees\":0,\"Attendees\":[],\"Summary\":\"Workshop - AI Agents\"}\\n        ],\\n        \"usertwo.amd@gmail.com\": [\\n            {\"StartTime\":\"2025-07-20T07:45:00+05:30\",\"EndTime\":\"2025-07-20T08:15:00+05:30\",\"NumAttendees\":4,\"Attendees\":[\"userthree.amd@gmail.com\",\"usertwo.amd@gmail.com\",\"team@amd.com\",\"userone.amd@gmail.com\"],\"Summary\":\"Agentic AI Project Status Update\"},\\n            {\"StartTime\":\"2025-07-20T08:30:00+05:30\",\"EndTime\":\"2025-07-20T09:00:00+05:30\",\"NumAttendees\":4,\"Attendees\":[\"userthree.amd@gmail.com\",\"usertwo.amd@gmail.com\",\"team@amd.com\",\"userone.amd@gmail.com\"],\"Summary\":\"Agentic AI Project Status Update\"},\\n            {\"StartTime\":\"2025-07-20T09:15:00+05:30\",\"EndTime\":\"2025-07-20T09:45:00+05:30\",\"NumAttendees\":4,\"Attendees\":[\"userthree.amd@gmail.com\",\"usertwo.amd@gmail.com\",\"team@amd.com\",\"userone.amd@gmail.com\"],\"Summary\":\"Agentic AI Project Status Update\"},\\n            {\"StartTime\":\"2025-07-20T10:00:00+05:30\",\"EndTime\":\"2025-07-20T10:30:00+05:30\",\"NumAttendees\":4,\"Attendees\":[\"userthree.amd@gmail.com\",\"usertwo.amd@gmail.com\",\"team@amd.com\",\"userone.amd@gmail.com\"],\"Summary\":\"Agentic AI Project Status Update\"},\\n            {\"StartTime\":\"2025-07-20T10:45:00+05:30\",\"EndTime\":\"2025-07-20T11:15:00+05:30\",\"NumAttendees\":4,\"Attendees\":[\"userthree.amd@gmail.com\",\"usertwo.amd@gmail.com\",\"team@amd.com\",\"userone.amd@gmail.com\"],\"Summary\":\"Agentic AI Project Status Update\"},\\n            {\"StartTime\":\"2025-07-20T11:30:00+05:30\",\"EndTime\":\"2025-07-20T12:00:00+05:30\",\"NumAttendees\":4,\"Attendees\":[\"userthree.amd@gmail.com\",\"usertwo.amd@gmail.com\",\"team@amd.com\",\"userone.amd@gmail.com\"],\"Summary\":\"Agentic AI Project Status Update\"},\\n            {\"StartTime\":\"2025-07-20T12:15:00+05:30\",\"EndTime\":\"2025-07-20T12:45:00+05:30\",\"NumAttendees\":4,\"Attendees\":[\"userthree.amd@gmail.com\",\"usertwo.amd@gmail.com\",\"team@amd.com\",\"userone.amd@gmail.com\"],\"Summary\":\"Agentic AI Project Status Update\"},\\n            {\"StartTime\":\"2025-07-21T09:00:00+05:30\",\"EndTime\":\"2025-07-21T10:00:00+05:30\",\"NumAttendees\":0,\"Attendees\":[],\"Summary\":\"1v1 with Team Member\"},\\n            {\"StartTime\":\"2025-07-22T09:00:00+05:30\",\"EndTime\":\"2025-07-22T17:00:00+05:30\",\"NumAttendees\":0,\"Attendees\":[],\"Summary\":\"Workshop - AI Agents\"}\\n        ],\\n        \"userthree.amd@gmail.com\": [\\n            {\"StartTime\":\"2025-07-20T07:45:00+05:30\",\"EndTime\":\"2025-07-20T08:15:00+05:30\",\"NumAttendees\":4,\"Attendees\":[\"userthree.amd@gmail.com\",\"usertwo.amd@gmail.com\",\"team@amd.com\",\"userone.amd@gmail.com\"],\"Summary\":\"Agentic AI Project Status Update\"},\\n            {\"StartTime\":\"2025-07-20T08:30:00+05:30\",\"EndTime\":\"2025-07-20T09:00:00+05:30\",\"NumAttendees\":4,\"Attendees\":[\"userthree.amd@gmail.com\",\"usertwo.amd@gmail.com\",\"team@amd.com\",\"userone.amd@gmail.com\"],\"Summary\":\"Agentic AI Project Status Update\"},\\n            {\"StartTime\":\"2025-07-20T09:15:00+05:30\",\"EndTime\":\"2025-07-20T09:45:00+05:30\",\"NumAttendees\":4,\"Attendees\":[\"userthree.amd@gmail.com\",\"usertwo.amd@gmail.com\",\"team@amd.com\",\"userone.amd@gmail.com\"],\"Summary\":\"Agentic AI Project Status Update\"},\\n            {\"StartTime\":\"2025-07-20T10:00:00+05:30\",\"EndTime\":\"2025-07-20T10:30:00+05:30\",\"NumAttendees\":4,\"Attendees\":[\"userthree.amd@gmail.com\",\"usertwo.amd@gmail.com\",\"team@amd.com\",\"userone.amd@gmail.com\"],\"Summary\":\"Agentic AI Project Status Update\"},\\n            {\"StartTime\":\"2025-07-20T10:45:00+05:30\",\"EndTime\":\"2025-07-20T11:15:00+05:30\",\"NumAttendees\":4,\"Attendees\":[\"userthree.amd@gmail.com\",\"usertwo.amd@gmail.com\",\"team@amd.com\",\"userone.amd@gmail.com\"],\"Summary\":\"Agentic AI Project Status Update\"},\\n            {\"StartTime\":\"2025-07-20T11:30:00+05:30\",\"EndTime\":\"2025-07-20T12:00:00+05:30\",\"NumAttendees\":4,\"Attendees\":[\"userthree.amd@gmail.com\",\"usertwo.amd@gmail.com\",\"team@amd.com\",\"userone.amd@gmail.com\"],\"Summary\":\"Agentic AI Project Status Update\"},\\n            {\"StartTime\":\"2025-07-20T12:15:00+05:30\",\"EndTime\":\"2025-07-20T12:45:00+05:30\",\"NumAttendees\":4,\"Attendees\":[\"userthree.amd@gmail.com\",\"usertwo.amd@gmail.com\",\"team@amd.com\",\"userone.amd@gmail.com\"],\"Summary\":\"Agentic AI Project Status Update\"},\\n            {\"StartTime\":\"2025-07-21T09:00:00+05:30\",\"EndTime\":\"2025-07-21T10:00:00+05:30\",\"NumAttendees\":0,\"Attendees\":[],\"Summary\":\"1v1 with Team Member\"},\\n            {\"StartTime\":\"2025-07-22T09:00:00+05:30\",\"EndTime\":\"2025-07-22T17:00:00+05:30\",\"NumAttendees\":0,\"Attendees\":[],\"Summary\":\"Workshop - AI Agents\"}\\n        ]\\n    },\\n    \"ScheduledMeeting\": {\\n        \"StartTime\": \"2025-07-24T10:00:00+05:30\",\\n        \"EndTime\": \"2025-07-24T10:30:00+05:30\",\\n        \"NumAttendees\": 3,\\n        \"Attendees\": [\"userone.amd@gmail.com\", \"usertwo.amd@gmail.com\", \"userthree.amd@gmail.com\"],\\n        \"Summary\": \"Agentic AI Project Status Update\"\\n    }\\n}'"
      ]
     },
     "execution_count": 79,
     "metadata": {},
     "output_type": "execute_result"
    }
   ],
   "source": [
    "await run_async(\"\"\"{\n",
    "    \"Request_id\": \"6118b54f-907b-4451-8d48-dd13d76033a5\",\n",
    "    \"Datetime\": \"19-07-2025T12:34:55\",\n",
    "    \"Location\": \"IISc Bangalore\",\n",
    "    \"From\": \"userone.amd@gmail.com\",\n",
    "    \"Attendees\": [\n",
    "        {\n",
    "            \"email\": \"usertwo.amd@gmail.com\"\n",
    "        },\n",
    "        {\n",
    "            \"email\": \"userthree.amd@gmail.com\"\n",
    "        }\n",
    "    ],\n",
    "    \"Subject\": \"Agentic AI Project Status Update\",\n",
    "    \"EmailContent\": \"Hi team, let's meet on Thursday for 30 minutes to discuss the status of Agentic AI Project.\"\n",
    "}\"\"\")"
   ]
  },
  {
   "cell_type": "code",
   "execution_count": null,
   "id": "a3fea2fa-f417-4375-aa63-e493deb0b6d1",
   "metadata": {},
   "outputs": [],
   "source": []
  },
  {
   "cell_type": "code",
   "execution_count": null,
   "id": "b3d751f6-ed6b-43d1-8375-037346e60131",
   "metadata": {},
   "outputs": [],
   "source": []
  }
 ],
 "metadata": {
  "kernelspec": {
   "display_name": "Python 3 (ipykernel)",
   "language": "python",
   "name": "python3"
  },
  "language_info": {
   "codemirror_mode": {
    "name": "ipython",
    "version": 3
   },
   "file_extension": ".py",
   "mimetype": "text/x-python",
   "name": "python",
   "nbconvert_exporter": "python",
   "pygments_lexer": "ipython3",
   "version": "3.12.10"
  }
 },
 "nbformat": 4,
 "nbformat_minor": 5
}
