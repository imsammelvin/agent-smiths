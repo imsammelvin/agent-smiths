{
 "cells": [
  {
   "cell_type": "code",
   "execution_count": 33,
   "id": "75d0e861-711e-4306-86ca-3d45853a305e",
   "metadata": {},
   "outputs": [
    {
     "name": "stdout",
     "output_type": "stream",
     "text": [
      "Config set: http://localhost:8000/v1\n"
     ]
    }
   ],
   "source": [
    "import os\n",
    "\n",
    "BASE_URL = f\"http://localhost:8000/v1\"\n",
    "\n",
    "os.environ[\"BASE_URL\"]    = BASE_URL\n",
    "os.environ[\"OPENAI_API_KEY\"] = \"abc-123\"   \n",
    "\n",
    "print(\"Config set:\", BASE_URL)"
   ]
  },
  {
   "cell_type": "code",
   "execution_count": 34,
   "id": "519bd58e-9116-41aa-8ab4-f55ea689dfef",
   "metadata": {},
   "outputs": [],
   "source": [
    "\n",
    "from pydantic_ai import Agent\n",
    "from pydantic_ai.mcp import MCPServerSSE\n",
    "\n",
    "server = server = MCPServerSSE('http://localhost:8090/sse') "
   ]
  },
  {
   "cell_type": "code",
   "execution_count": 192,
   "id": "f59a9ec8-02f9-4a79-be00-52cd52f8f16e",
   "metadata": {},
   "outputs": [],
   "source": [
    "from pydantic_ai.models.openai import OpenAIModel\n",
    "from pydantic_ai.providers.openai import OpenAIProvider\n",
    "\n",
    "provider = OpenAIProvider(\n",
    "    base_url=os.environ[\"BASE_URL\"],\n",
    "    api_key=os.environ[\"OPENAI_API_KEY\"],\n",
    ")\n",
    "\n",
    "agent_model = OpenAIModel(\"Qwen3-30B-A3B\", provider=provider)"
   ]
  },
  {
   "cell_type": "code",
   "execution_count": 93,
   "id": "9e25d010-e2e5-4b37-a176-fa072d908ed1",
   "metadata": {},
   "outputs": [],
   "source": [
    "import json\n",
    "from datetime import datetime, timezone, timedelta\n",
    "from google.oauth2.credentials import Credentials\n",
    "from googleapiclient.discovery import build\n",
    "\n",
    "def retrive_calendar_events(user, start, end):\n",
    "    events_list = []\n",
    "    token_path = \"Keys/\"+user.split(\"@\")[0]+\".token\"\n",
    "    user_creds = Credentials.from_authorized_user_file(token_path)\n",
    "    calendar_service = build(\"calendar\", \"v3\", credentials=user_creds)\n",
    "    events_result = calendar_service.events().list(calendarId='primary', timeMin=start,timeMax=end,singleEvents=True,orderBy='startTime').execute()\n",
    "    events = events_result.get('items')\n",
    "    \n",
    "    for event in events : \n",
    "        attendee_list = []\n",
    "        try:\n",
    "            for attendee in event[\"attendees\"]: \n",
    "                attendee_list.append(attendee['email'])\n",
    "        except: \n",
    "            attendee_list.append(\"SELF\")\n",
    "        start_time = event[\"start\"][\"dateTime\"]\n",
    "        end_time = event[\"end\"][\"dateTime\"]\n",
    "        events_list.append(\n",
    "            {\"StartTime\" : start_time, \n",
    "             \"EndTime\": end_time, \n",
    "             \"NumAttendees\" :len(set(attendee_list)), \n",
    "             \"Attendees\" : list(set(attendee_list)),\n",
    "             \"Summary\" : event[\"summary\"]})\n",
    "    return events_list"
   ]
  },
  {
   "cell_type": "code",
   "execution_count": null,
   "id": "ccc7466b-9235-4821-bc5e-68ee62f69493",
   "metadata": {},
   "outputs": [],
   "source": [
    "'["
   ]
  },
  {
   "cell_type": "code",
   "execution_count": 187,
   "id": "b17b7eca-afa3-4965-8cb0-c4307dfd7f80",
   "metadata": {},
   "outputs": [
    {
     "data": {
      "text/plain": [
       "[{'StartTime': '2025-07-16T18:00:00+05:30',\n",
       "  'EndTime': '2025-07-17T09:00:00+05:30',\n",
       "  'NumAttendees': 1,\n",
       "  'Attendees': ['SELF'],\n",
       "  'Summary': 'Off Hours'},\n",
       " {'StartTime': '2025-07-17T18:00:00+05:30',\n",
       "  'EndTime': '2025-07-18T09:00:00+05:30',\n",
       "  'NumAttendees': 1,\n",
       "  'Attendees': ['SELF'],\n",
       "  'Summary': 'Off Hours'}]"
      ]
     },
     "execution_count": 187,
     "metadata": {},
     "output_type": "execute_result"
    }
   ],
   "source": [
    "retrive_calendar_events(\"userone.amd@gmail.com\", '2025-07-17T00:00:00+05:30', '2025-07-18T00:00:00+05:30')\n"
   ]
  },
  {
   "cell_type": "code",
   "execution_count": 190,
   "id": "1df80d42-401e-490e-bc16-c95df0e6290d",
   "metadata": {},
   "outputs": [
    {
     "data": {
      "text/plain": [
       "[{'StartTime': '2025-07-16T18:00:00+05:30',\n",
       "  'EndTime': '2025-07-17T09:00:00+05:30',\n",
       "  'NumAttendees': 1,\n",
       "  'Attendees': ['SELF'],\n",
       "  'Summary': 'Off Hours'},\n",
       " {'StartTime': '2025-07-17T18:00:00+05:30',\n",
       "  'EndTime': '2025-07-18T09:00:00+05:30',\n",
       "  'NumAttendees': 1,\n",
       "  'Attendees': ['SELF'],\n",
       "  'Summary': 'Off Hours'}]"
      ]
     },
     "execution_count": 190,
     "metadata": {},
     "output_type": "execute_result"
    }
   ],
   "source": [
    "retrive_calendar_events(\"usertwo.amd@gmail.com\", '2025-07-17T00:00:00+05:30', '2025-07-18T00:00:00+05:30')\n"
   ]
  },
  {
   "cell_type": "code",
   "execution_count": 191,
   "id": "a697f430-9344-4135-a925-56d0f1a8a76e",
   "metadata": {},
   "outputs": [
    {
     "data": {
      "text/plain": [
       "[{'StartTime': '2025-07-16T16:00:00+05:30',\n",
       "  'EndTime': '2025-07-17T07:30:00+05:30',\n",
       "  'NumAttendees': 1,\n",
       "  'Attendees': ['SELF'],\n",
       "  'Summary': 'Off Hours'},\n",
       " {'StartTime': '2025-07-17T16:00:00+05:30',\n",
       "  'EndTime': '2025-07-18T07:30:00+05:30',\n",
       "  'NumAttendees': 1,\n",
       "  'Attendees': ['SELF'],\n",
       "  'Summary': 'Off Hours'}]"
      ]
     },
     "execution_count": 191,
     "metadata": {},
     "output_type": "execute_result"
    }
   ],
   "source": [
    "retrive_calendar_events(\"userthree.amd@gmail.com\", '2025-07-17T00:00:00+05:30', '2025-07-18T00:00:00+05:30')\n"
   ]
  },
  {
   "cell_type": "code",
   "execution_count": null,
   "id": "45885f3a-ec8d-4801-b444-1e71413fb5c7",
   "metadata": {},
   "outputs": [],
   "source": [
    "17 9 17 16"
   ]
  },
  {
   "cell_type": "code",
   "execution_count": null,
   "id": "7d01fdab-351f-48d5-a660-1de7eee540bd",
   "metadata": {},
   "outputs": [],
   "source": [
    "data = {\n",
    "    \"Request_id\": \"6118b54f-907b-4451-8d48-dd13d76033a5\",\n",
    "    \"Datetime\": \"19-07-2025T12:34:55\",\n",
    "    \"Location\": \"IISc Bangalore\",\n",
    "    \"From\": \"userone.amd@gmail.com\",\n",
    "    \"Attendees\": [\n",
    "        {\n",
    "            \"email\": \"usertwo.amd@gmail.com\"\n",
    "        },\n",
    "        {\n",
    "            \"email\": \"userthree.amd@gmail.com\"\n",
    "        }\n",
    "    ],\n",
    "    \"Subject\": \"Agentic AI Project Status Update\",\n",
    "    \"EmailContent\": \"Hi team, let's meet on Thursday for 30 minutes to discuss the status of Agentic AI Project.\"\n",
    "}\n",
    "\n",
    "output = {}\n",
    "output[\"Request_id\"] = data[\"Request_id\"]\n",
    "output[\"Datetime\"] = data[\"Datetime\"]\n",
    "output[\"Location\"] = data[\"Location\"]\n",
    "output[\"Request_id\"] = data[\"Request_id\"]\n",
    "output[\"From\"] = data[\"From\"]\n",
    "output[\"Location\"] = data[\"Location\"]\n",
    "output[\"Attendees\"] = data[\"Attendees\"]\n",
    "for i in range(len(output[\"Attendees\"])):\n",
    "    email = output[\"Attendees\"][\"email\"]\n",
    "    occupied = \n"
   ]
  },
  {
   "cell_type": "code",
   "execution_count": 42,
   "id": "ef2dc1de-2461-41b3-b4c0-19635b2c28c4",
   "metadata": {},
   "outputs": [],
   "source": [
    "SYSTEM_PROMPT = \"\"\"\n",
    "\n",
    "\"\"\"\n",
    "\n",
    "inp = \"\"\"\n",
    "{\n",
    "    \"Request_id\": \"6118b54f-907b-4451-8d48-dd13d76033a5\",\n",
    "    \"Datetime\": \"19-07-2025T12:34:55\",\n",
    "    \"Location\": \"IISc Bangalore\",\n",
    "    \"From\": \"userone.amd@gmail.com\",\n",
    "    \"Attendees\": [\n",
    "        {\n",
    "            \"email\": \"usertwo.amd@gmail.com\"\n",
    "        },\n",
    "        {\n",
    "            \"email\": \"userthree.amd@gmail.com\"\n",
    "        }\n",
    "    ],\n",
    "    \"Subject\": \"Agentic AI Project Status Update\",\n",
    "    \"EmailContent\": \"Hi team, let's meet on Thursday for 30 minutes to discuss the status of Agentic AI Project.\"\n",
    "}\n",
    "\"\"\""
   ]
  },
  {
   "cell_type": "code",
   "execution_count": 96,
   "id": "841ae11f-80bd-4c1c-af0a-13cabba77eef",
   "metadata": {},
   "outputs": [],
   "source": [
    "from pydantic_ai import Agent\n",
    "\n",
    "agent = Agent(\n",
    "    model=agent_model,\n",
    "    toolsets=[server],\n",
    "    system_prompt = SYSTEM_PROMPT\n",
    ")"
   ]
  },
  {
   "cell_type": "code",
   "execution_count": 97,
   "id": "8c38b166-1bfe-4209-9865-59d88423da9b",
   "metadata": {},
   "outputs": [],
   "source": [
    "import asyncio\n",
    "from pydantic_ai.mcp import MCPServerStdio\n",
    "async def run_async(prompt: str) -> str:\n",
    "    async with agent.run_mcp_servers():\n",
    "        result = await agent.run(prompt)\n",
    "        return result.output\n"
   ]
  },
  {
   "cell_type": "code",
   "execution_count": 98,
   "id": "656d0cfa-2d11-4990-8005-dc88eb74f46e",
   "metadata": {},
   "outputs": [
    {
     "name": "stdout",
     "output_type": "stream",
     "text": [
      "Result: \n",
      "\n",
      "The current date is **July 19, 2025**, and the day of the week is **Thursday**.\n",
      "Elapsed time: 4.29 seconds\n"
     ]
    }
   ],
   "source": [
    "import time\n",
    "import asyncio\n",
    "\n",
    "start = time.perf_counter()\n",
    "result = await run_async(\"current date and day of the week\")\n",
    "end = time.perf_counter()\n",
    "\n",
    "print(f\"Result: {result}\")\n",
    "print(f\"Elapsed time: {end - start:.2f} seconds\")"
   ]
  },
  {
   "cell_type": "code",
   "execution_count": 99,
   "id": "7196867a-86b4-423a-b59d-f8548f78cba0",
   "metadata": {},
   "outputs": [
    {
     "ename": "SyntaxError",
     "evalue": "invalid decimal literal (3612579796.py, line 2)",
     "output_type": "error",
     "traceback": [
      "  \u001b[36mCell\u001b[39m\u001b[36m \u001b[39m\u001b[32mIn[99]\u001b[39m\u001b[32m, line 2\u001b[39m\n\u001b[31m    \u001b[39m\u001b[31mvllm serve Qwen/Qwen3-8B \\\u001b[39m\n                          ^\n\u001b[31mSyntaxError\u001b[39m\u001b[31m:\u001b[39m invalid decimal literal\n"
     ]
    }
   ],
   "source": [
    "VLLM_USE_TRITON_FLASH_ATTN=0 \\\n",
    "vllm serve Qwen/Qwen3-30B-A3B \\\n",
    "    --served-model-name Qwen3-30B-A3B \\\n",
    "    --api-key abc-123 \\\n",
    "    --port 8000 \\\n",
    "    --enable-auto-tool-choice \\\n",
    "    --tool-call-parser hermes \\\n",
    "    --trust-remote-code"
   ]
  },
  {
   "cell_type": "code",
   "execution_count": 177,
   "id": "0c371c72-f4a3-4931-a198-333c00ff8bea",
   "metadata": {},
   "outputs": [],
   "source": [
    "from datetime import datetime\n",
    "\n",
    "def merge_intervals(intervals):\n",
    "    if not intervals:\n",
    "        return []\n",
    "\n",
    "    # Sort by start time\n",
    "    intervals.sort(key=lambda x: x[0])\n",
    "    merged = [intervals[0]]\n",
    "\n",
    "    for current_start, current_end in intervals[1:]:\n",
    "        last_start, last_end = merged[-1]\n",
    "        if current_start <= last_end:\n",
    "            merged[-1] = (last_start, max(last_end, current_end))  # Merge overlapping\n",
    "        else:\n",
    "            merged.append((current_start, current_end))\n",
    "    return merged\n",
    "\n",
    "def get_available_time_slots(attendees, duration_minutes, start_date, end_date):\n",
    "\n",
    "    user_availabilities = []\n",
    "\n",
    "    for user in attendees:\n",
    "        events = retrive_calendar_events(user, start_date, end_date)\n",
    "        for event in events:\n",
    "            start = datetime.fromisoformat(event[\"StartTime\"])\n",
    "            end = datetime.fromisoformat(event[\"EndTime\"])\n",
    "            user_availabilities.append((start, end))\n",
    "\n",
    "    merged_unavailable = merge_intervals(user_availabilities)\n",
    "    available = []\n",
    "    duration = timedelta(minutes=duration_minutes)\n",
    "    if merged_unavailable[0][0] -  datetime.fromisoformat(start_date)>=duration:\n",
    "        available.append((start_date,merged_unavailable[0][0].strftime('%Y-%m-%d %H:%M:%S %z')))\n",
    "    for i in range(1,len(merged_unavailable)):\n",
    "        if (merged_unavailable[i][0] - merged_unavailable[i-1][1] )>=duration:\n",
    "            available.append((merged_unavailable[i-1][1].strftime('%Y-%m-%d %H:%M:%S %z'),merged_unavailable[i][0].strftime('%Y-%m-%d %H:%M:%S %z')))\n",
    "    if (datetime.fromisoformat(end_date)-merged_unavailable[-1][1])>=duration:\n",
    "        available.append((merged_unavailable[-1][1].strftime('%Y-%m-%d %H:%M:%S %z'),end_date))\n",
    "    slots = \"\"\n",
    "    for s,e in available:\n",
    "        slots+= (s+\"-\"+e+\",\\n \")\n",
    "    return slots"
   ]
  },
  {
   "cell_type": "code",
   "execution_count": 181,
   "id": "d3d9d7d2-6fd1-4512-b098-c24c23b18691",
   "metadata": {},
   "outputs": [],
   "source": [
    "f = example_usage([\"userone.amd@gmail.com\",\"usertwo.amd@gmail.com\"],60,'2025-07-17T00:00:00+05:30', '2025-07-18T23:59:59+05:30')"
   ]
  },
  {
   "cell_type": "code",
   "execution_count": 186,
   "id": "e68c1b6d-9614-4438-9071-e91c166b0d86",
   "metadata": {},
   "outputs": [
    {
     "data": {
      "text/plain": [
       "'2025-07-17 09:00:00 +0530-2025-07-17 18:00:00 +0530,\\n 2025-07-18 17:00:00 +0530-2025-07-18 18:00:00 +0530,\\n '"
      ]
     },
     "execution_count": 186,
     "metadata": {},
     "output_type": "execute_result"
    }
   ],
   "source": [
    "slots = \"\"\n",
    "for s,e in f:\n",
    "    slots+= (s+\"-\"+e+\",\\n \")\n",
    "slots"
   ]
  },
  {
   "cell_type": "code",
   "execution_count": 128,
   "id": "905fde5c-093f-4bf9-babb-36d2dc2923d8",
   "metadata": {},
   "outputs": [
    {
     "data": {
      "text/plain": [
       "[{'StartTime': '2025-07-16T18:00:00+05:30',\n",
       "  'EndTime': '2025-07-17T09:00:00+05:30',\n",
       "  'NumAttendees': 1,\n",
       "  'Attendees': ['SELF'],\n",
       "  'Summary': 'Off Hours'},\n",
       " {'StartTime': '2025-07-17T18:00:00+05:30',\n",
       "  'EndTime': '2025-07-18T09:00:00+05:30',\n",
       "  'NumAttendees': 1,\n",
       "  'Attendees': ['SELF'],\n",
       "  'Summary': 'Off Hours'},\n",
       " {'StartTime': '2025-07-18T18:00:00+05:30',\n",
       "  'EndTime': '2025-07-19T09:00:00+05:30',\n",
       "  'NumAttendees': 1,\n",
       "  'Attendees': ['SELF'],\n",
       "  'Summary': 'Off Hours'}]"
      ]
     },
     "execution_count": 128,
     "metadata": {},
     "output_type": "execute_result"
    }
   ],
   "source": [
    "event = retrive_calendar_events(\"userone.amd@gmail.com\", '2025-07-17T00:00:00+05:30', '2025-07-18T23:59:59+05:30')\n",
    "event"
   ]
  },
  {
   "cell_type": "code",
   "execution_count": 121,
   "id": "560f97dc-e2db-44c0-bd08-57909c2db61f",
   "metadata": {},
   "outputs": [
    {
     "data": {
      "text/plain": [
       "[{'StartTime': '2025-07-16T18:00:00+05:30',\n",
       "  'EndTime': '2025-07-17T09:00:00+05:30',\n",
       "  'NumAttendees': 1,\n",
       "  'Attendees': ['SELF'],\n",
       "  'Summary': 'Off Hours'},\n",
       " {'StartTime': '2025-07-17T18:00:00+05:30',\n",
       "  'EndTime': '2025-07-18T09:00:00+05:30',\n",
       "  'NumAttendees': 1,\n",
       "  'Attendees': ['SELF'],\n",
       "  'Summary': 'Off Hours'},\n",
       " {'StartTime': '2025-07-18T09:00:00+05:30',\n",
       "  'EndTime': '2025-07-18T17:00:00+05:30',\n",
       "  'NumAttendees': 1,\n",
       "  'Attendees': ['SELF'],\n",
       "  'Summary': 'Workshop Advance AI'},\n",
       " {'StartTime': '2025-07-18T18:00:00+05:30',\n",
       "  'EndTime': '2025-07-19T09:00:00+05:30',\n",
       "  'NumAttendees': 1,\n",
       "  'Attendees': ['SELF'],\n",
       "  'Summary': 'Off Hours'}]"
      ]
     },
     "execution_count": 121,
     "metadata": {},
     "output_type": "execute_result"
    }
   ],
   "source": [
    "event = retrive_calendar_events(\"usertwo.amd@gmail.com\", '2025-07-17T00:00:00+05:30', '2025-07-18T23:59:59+05:30')\n",
    "event"
   ]
  },
  {
   "cell_type": "code",
   "execution_count": 211,
   "id": "4f743318-b467-4418-b072-c7ed91b676ac",
   "metadata": {},
   "outputs": [
    {
     "name": "stdout",
     "output_type": "stream",
     "text": [
      "Execution time: 7.267 seconds\n",
      "Status Code: 200\n",
      "Response JSON: {\n",
      "  \"Attendees\": [\n",
      "    {\n",
      "      \"email\": \"usertwo.amd@gmail.com\",\n",
      "      \"events\": [\n",
      "        {\n",
      "          \"Attendees\": [\n",
      "            \"SELF\"\n",
      "          ],\n",
      "          \"EndTime\": \"2025-07-24T09:00:00+05:30\",\n",
      "          \"NumAttendees\": 1,\n",
      "          \"StartTime\": \"2025-07-23T18:00:00+05:30\",\n",
      "          \"Summary\": \"Off Hours\"\n",
      "        },\n",
      "        {\n",
      "          \"Attendees\": [\n",
      "            \"usertwo.amd@gmail.com\",\n",
      "            \"userone.amd@gmail.com\",\n",
      "            \"userthree.amd@gmail.com\"\n",
      "          ],\n",
      "          \"EndTime\": \"2025-07-24T11:00:00+05:30\",\n",
      "          \"NumAttendees\": 3,\n",
      "          \"StartTime\": \"2025-07-24T10:30:00+05:30\",\n",
      "          \"Summary\": \"Agentic AI Project Status Update\"\n",
      "        },\n",
      "        {\n",
      "          \"Attendees\": [\n",
      "            \"SELF\"\n",
      "          ],\n",
      "          \"EndTime\": \"2025-07-25T09:00:00+05:30\",\n",
      "          \"NumAttendees\": 1,\n",
      "          \"StartTime\": \"2025-07-24T18:00:00+05:30\",\n",
      "          \"Summary\": \"Off Hours\"\n",
      "        }\n",
      "      ]\n",
      "    },\n",
      "    {\n",
      "      \"email\": \"userthree.amd@gmail.com\",\n",
      "      \"events\": [\n",
      "        {\n",
      "          \"Attendees\": [\n",
      "            \"SELF\"\n",
      "          ],\n",
      "          \"EndTime\": \"2025-07-24T07:30:00+05:30\",\n",
      "          \"NumAttendees\": 1,\n",
      "          \"StartTime\": \"2025-07-23T16:00:00+05:30\",\n",
      "          \"Summary\": \"Off Hours\"\n",
      "        },\n",
      "        {\n",
      "          \"Attendees\": [\n",
      "            \"usertwo.amd@gmail.com\",\n",
      "            \"userone.amd@gmail.com\",\n",
      "            \"userthree.amd@gmail.com\"\n",
      "          ],\n",
      "          \"EndTime\": \"2025-07-24T11:00:00+05:30\",\n",
      "          \"NumAttendees\": 3,\n",
      "          \"StartTime\": \"2025-07-24T10:30:00+05:30\",\n",
      "          \"Summary\": \"Agentic AI Project Status Update\"\n",
      "        },\n",
      "        {\n",
      "          \"Attendees\": [\n",
      "            \"SELF\"\n",
      "          ],\n",
      "          \"EndTime\": \"2025-07-25T07:30:00+05:30\",\n",
      "          \"NumAttendees\": 1,\n",
      "          \"StartTime\": \"2025-07-24T16:00:00+05:30\",\n",
      "          \"Summary\": \"Off Hours\"\n",
      "        }\n",
      "      ]\n",
      "    }\n",
      "  ],\n",
      "  \"Datetime\": \"19-07-2025T12:34:55\",\n",
      "  \"Duration_mins\": \"30\",\n",
      "  \"EmailContent\": \"Hi team, let's meet on Thursday for 30 minutes to discuss the status of Agentic AI Project.\",\n",
      "  \"EventEnd\": \"2025-07-24T09:30:00+0530\",\n",
      "  \"EventStart\": \"2025-07-24T09:00:00+0530\",\n",
      "  \"From\": \"userone.amd@gmail.com\",\n",
      "  \"Location\": \"IISc Bangalore\",\n",
      "  \"MetaData\": \"The meeting is scheduled in the first available slot, which is from 9:00 AM to 10:30 AM. The duration is 30 minutes, so the meeting starts at 9:00 AM and ends at 9:30 AM.\",\n",
      "  \"Request_id\": \"6118b54f-907b-4451-8d48-dd13d76033a5\",\n",
      "  \"Subject\": \"Agentic AI Project Status Update\"\n",
      "}\n"
     ]
    }
   ],
   "source": [
    "import requests\n",
    "import json\n",
    "\n",
    "# Define your test data\n",
    "data = {\n",
    "    \"Request_id\": \"6118b54f-907b-4451-8d48-dd13d76033a5\",\n",
    "    \"Datetime\": \"19-07-2025T12:34:55\",\n",
    "    \"Location\": \"IISc Bangalore\",\n",
    "    \"From\": \"userone.amd@gmail.com\",\n",
    "    \"Attendees\": [\n",
    "        {\n",
    "            \"email\": \"usertwo.amd@gmail.com\"\n",
    "        },\n",
    "        {\n",
    "            \"email\": \"userthree.amd@gmail.com\"\n",
    "        }\n",
    "    ],\n",
    "    \"Subject\": \"Agentic AI Project Status Update\",\n",
    "    \"EmailContent\": \"Hi team, let's meet on Thursday for 30 minutes to discuss the status of Agentic AI Project.\"\n",
    "}\n",
    "\n",
    "import  time\n",
    "\n",
    "start_time = time.time()\n",
    "\n",
    "# Send the POST request to your Flask server\n",
    "response = requests.post(\"http://localhost:5000/receive\", json=data)\n",
    "end_time = time.time()\n",
    "\n",
    "execution_time = end_time-start_time\n",
    "print(f\"Execution time: {execution_time:.3f} seconds\")\n",
    "# Print the response\n",
    "print(\"Status Code:\", response.status_code)\n",
    "print(\"Response JSON:\", json.dumps(response.json(), indent=2))\n"
   ]
  },
  {
   "cell_type": "code",
   "execution_count": 203,
   "id": "08fa1a37-bec7-4a39-91ec-583139b1d709",
   "metadata": {},
   "outputs": [
    {
     "name": "stdout",
     "output_type": "stream",
     "text": [
      "Status Code: 200\n",
      "Status Code: 200\n",
      "Status Code: 200\n",
      "Status Code: 200\n"
     ]
    },
    {
     "ename": "KeyboardInterrupt",
     "evalue": "",
     "output_type": "error",
     "traceback": [
      "\u001b[31m---------------------------------------------------------------------------\u001b[39m",
      "\u001b[31mKeyboardInterrupt\u001b[39m                         Traceback (most recent call last)",
      "\u001b[36mCell\u001b[39m\u001b[36m \u001b[39m\u001b[32mIn[203]\u001b[39m\u001b[32m, line 10\u001b[39m\n\u001b[32m      8\u001b[39m \u001b[38;5;28;01mfor\u001b[39;00m i \u001b[38;5;129;01min\u001b[39;00m \u001b[38;5;28mrange\u001b[39m(\u001b[32m20\u001b[39m):\n\u001b[32m      9\u001b[39m     start_time = time.time()\n\u001b[32m---> \u001b[39m\u001b[32m10\u001b[39m     response = \u001b[43mrequests\u001b[49m\u001b[43m.\u001b[49m\u001b[43mpost\u001b[49m\u001b[43m(\u001b[49m\u001b[33;43m\"\u001b[39;49m\u001b[33;43mhttp://localhost:5000/receive\u001b[39;49m\u001b[33;43m\"\u001b[39;49m\u001b[43m,\u001b[49m\u001b[43m \u001b[49m\u001b[43mjson\u001b[49m\u001b[43m=\u001b[49m\u001b[43mdata\u001b[49m\u001b[43m)\u001b[49m\n\u001b[32m     11\u001b[39m     end_time = time.time()\n\u001b[32m     13\u001b[39m     duration = end_time - start_time\n",
      "\u001b[36mFile \u001b[39m\u001b[32m/usr/local/lib/python3.12/dist-packages/requests/api.py:115\u001b[39m, in \u001b[36mpost\u001b[39m\u001b[34m(url, data, json, **kwargs)\u001b[39m\n\u001b[32m    103\u001b[39m \u001b[38;5;28;01mdef\u001b[39;00m\u001b[38;5;250m \u001b[39m\u001b[34mpost\u001b[39m(url, data=\u001b[38;5;28;01mNone\u001b[39;00m, json=\u001b[38;5;28;01mNone\u001b[39;00m, **kwargs):\n\u001b[32m    104\u001b[39m \u001b[38;5;250m    \u001b[39m\u001b[33mr\u001b[39m\u001b[33;03m\"\"\"Sends a POST request.\u001b[39;00m\n\u001b[32m    105\u001b[39m \n\u001b[32m    106\u001b[39m \u001b[33;03m    :param url: URL for the new :class:`Request` object.\u001b[39;00m\n\u001b[32m   (...)\u001b[39m\u001b[32m    112\u001b[39m \u001b[33;03m    :rtype: requests.Response\u001b[39;00m\n\u001b[32m    113\u001b[39m \u001b[33;03m    \"\"\"\u001b[39;00m\n\u001b[32m--> \u001b[39m\u001b[32m115\u001b[39m     \u001b[38;5;28;01mreturn\u001b[39;00m \u001b[43mrequest\u001b[49m\u001b[43m(\u001b[49m\u001b[33;43m\"\u001b[39;49m\u001b[33;43mpost\u001b[39;49m\u001b[33;43m\"\u001b[39;49m\u001b[43m,\u001b[49m\u001b[43m \u001b[49m\u001b[43murl\u001b[49m\u001b[43m,\u001b[49m\u001b[43m \u001b[49m\u001b[43mdata\u001b[49m\u001b[43m=\u001b[49m\u001b[43mdata\u001b[49m\u001b[43m,\u001b[49m\u001b[43m \u001b[49m\u001b[43mjson\u001b[49m\u001b[43m=\u001b[49m\u001b[43mjson\u001b[49m\u001b[43m,\u001b[49m\u001b[43m \u001b[49m\u001b[43m*\u001b[49m\u001b[43m*\u001b[49m\u001b[43mkwargs\u001b[49m\u001b[43m)\u001b[49m\n",
      "\u001b[36mFile \u001b[39m\u001b[32m/usr/local/lib/python3.12/dist-packages/requests/api.py:59\u001b[39m, in \u001b[36mrequest\u001b[39m\u001b[34m(method, url, **kwargs)\u001b[39m\n\u001b[32m     55\u001b[39m \u001b[38;5;66;03m# By using the 'with' statement we are sure the session is closed, thus we\u001b[39;00m\n\u001b[32m     56\u001b[39m \u001b[38;5;66;03m# avoid leaving sockets open which can trigger a ResourceWarning in some\u001b[39;00m\n\u001b[32m     57\u001b[39m \u001b[38;5;66;03m# cases, and look like a memory leak in others.\u001b[39;00m\n\u001b[32m     58\u001b[39m \u001b[38;5;28;01mwith\u001b[39;00m sessions.Session() \u001b[38;5;28;01mas\u001b[39;00m session:\n\u001b[32m---> \u001b[39m\u001b[32m59\u001b[39m     \u001b[38;5;28;01mreturn\u001b[39;00m \u001b[43msession\u001b[49m\u001b[43m.\u001b[49m\u001b[43mrequest\u001b[49m\u001b[43m(\u001b[49m\u001b[43mmethod\u001b[49m\u001b[43m=\u001b[49m\u001b[43mmethod\u001b[49m\u001b[43m,\u001b[49m\u001b[43m \u001b[49m\u001b[43murl\u001b[49m\u001b[43m=\u001b[49m\u001b[43murl\u001b[49m\u001b[43m,\u001b[49m\u001b[43m \u001b[49m\u001b[43m*\u001b[49m\u001b[43m*\u001b[49m\u001b[43mkwargs\u001b[49m\u001b[43m)\u001b[49m\n",
      "\u001b[36mFile \u001b[39m\u001b[32m/usr/local/lib/python3.12/dist-packages/requests/sessions.py:589\u001b[39m, in \u001b[36mSession.request\u001b[39m\u001b[34m(self, method, url, params, data, headers, cookies, files, auth, timeout, allow_redirects, proxies, hooks, stream, verify, cert, json)\u001b[39m\n\u001b[32m    584\u001b[39m send_kwargs = {\n\u001b[32m    585\u001b[39m     \u001b[33m\"\u001b[39m\u001b[33mtimeout\u001b[39m\u001b[33m\"\u001b[39m: timeout,\n\u001b[32m    586\u001b[39m     \u001b[33m\"\u001b[39m\u001b[33mallow_redirects\u001b[39m\u001b[33m\"\u001b[39m: allow_redirects,\n\u001b[32m    587\u001b[39m }\n\u001b[32m    588\u001b[39m send_kwargs.update(settings)\n\u001b[32m--> \u001b[39m\u001b[32m589\u001b[39m resp = \u001b[38;5;28;43mself\u001b[39;49m\u001b[43m.\u001b[49m\u001b[43msend\u001b[49m\u001b[43m(\u001b[49m\u001b[43mprep\u001b[49m\u001b[43m,\u001b[49m\u001b[43m \u001b[49m\u001b[43m*\u001b[49m\u001b[43m*\u001b[49m\u001b[43msend_kwargs\u001b[49m\u001b[43m)\u001b[49m\n\u001b[32m    591\u001b[39m \u001b[38;5;28;01mreturn\u001b[39;00m resp\n",
      "\u001b[36mFile \u001b[39m\u001b[32m/usr/local/lib/python3.12/dist-packages/requests/sessions.py:703\u001b[39m, in \u001b[36mSession.send\u001b[39m\u001b[34m(self, request, **kwargs)\u001b[39m\n\u001b[32m    700\u001b[39m start = preferred_clock()\n\u001b[32m    702\u001b[39m \u001b[38;5;66;03m# Send the request\u001b[39;00m\n\u001b[32m--> \u001b[39m\u001b[32m703\u001b[39m r = \u001b[43madapter\u001b[49m\u001b[43m.\u001b[49m\u001b[43msend\u001b[49m\u001b[43m(\u001b[49m\u001b[43mrequest\u001b[49m\u001b[43m,\u001b[49m\u001b[43m \u001b[49m\u001b[43m*\u001b[49m\u001b[43m*\u001b[49m\u001b[43mkwargs\u001b[49m\u001b[43m)\u001b[49m\n\u001b[32m    705\u001b[39m \u001b[38;5;66;03m# Total elapsed time of the request (approximately)\u001b[39;00m\n\u001b[32m    706\u001b[39m elapsed = preferred_clock() - start\n",
      "\u001b[36mFile \u001b[39m\u001b[32m/usr/local/lib/python3.12/dist-packages/requests/adapters.py:667\u001b[39m, in \u001b[36mHTTPAdapter.send\u001b[39m\u001b[34m(self, request, stream, timeout, verify, cert, proxies)\u001b[39m\n\u001b[32m    664\u001b[39m     timeout = TimeoutSauce(connect=timeout, read=timeout)\n\u001b[32m    666\u001b[39m \u001b[38;5;28;01mtry\u001b[39;00m:\n\u001b[32m--> \u001b[39m\u001b[32m667\u001b[39m     resp = \u001b[43mconn\u001b[49m\u001b[43m.\u001b[49m\u001b[43murlopen\u001b[49m\u001b[43m(\u001b[49m\n\u001b[32m    668\u001b[39m \u001b[43m        \u001b[49m\u001b[43mmethod\u001b[49m\u001b[43m=\u001b[49m\u001b[43mrequest\u001b[49m\u001b[43m.\u001b[49m\u001b[43mmethod\u001b[49m\u001b[43m,\u001b[49m\n\u001b[32m    669\u001b[39m \u001b[43m        \u001b[49m\u001b[43murl\u001b[49m\u001b[43m=\u001b[49m\u001b[43murl\u001b[49m\u001b[43m,\u001b[49m\n\u001b[32m    670\u001b[39m \u001b[43m        \u001b[49m\u001b[43mbody\u001b[49m\u001b[43m=\u001b[49m\u001b[43mrequest\u001b[49m\u001b[43m.\u001b[49m\u001b[43mbody\u001b[49m\u001b[43m,\u001b[49m\n\u001b[32m    671\u001b[39m \u001b[43m        \u001b[49m\u001b[43mheaders\u001b[49m\u001b[43m=\u001b[49m\u001b[43mrequest\u001b[49m\u001b[43m.\u001b[49m\u001b[43mheaders\u001b[49m\u001b[43m,\u001b[49m\n\u001b[32m    672\u001b[39m \u001b[43m        \u001b[49m\u001b[43mredirect\u001b[49m\u001b[43m=\u001b[49m\u001b[38;5;28;43;01mFalse\u001b[39;49;00m\u001b[43m,\u001b[49m\n\u001b[32m    673\u001b[39m \u001b[43m        \u001b[49m\u001b[43massert_same_host\u001b[49m\u001b[43m=\u001b[49m\u001b[38;5;28;43;01mFalse\u001b[39;49;00m\u001b[43m,\u001b[49m\n\u001b[32m    674\u001b[39m \u001b[43m        \u001b[49m\u001b[43mpreload_content\u001b[49m\u001b[43m=\u001b[49m\u001b[38;5;28;43;01mFalse\u001b[39;49;00m\u001b[43m,\u001b[49m\n\u001b[32m    675\u001b[39m \u001b[43m        \u001b[49m\u001b[43mdecode_content\u001b[49m\u001b[43m=\u001b[49m\u001b[38;5;28;43;01mFalse\u001b[39;49;00m\u001b[43m,\u001b[49m\n\u001b[32m    676\u001b[39m \u001b[43m        \u001b[49m\u001b[43mretries\u001b[49m\u001b[43m=\u001b[49m\u001b[38;5;28;43mself\u001b[39;49m\u001b[43m.\u001b[49m\u001b[43mmax_retries\u001b[49m\u001b[43m,\u001b[49m\n\u001b[32m    677\u001b[39m \u001b[43m        \u001b[49m\u001b[43mtimeout\u001b[49m\u001b[43m=\u001b[49m\u001b[43mtimeout\u001b[49m\u001b[43m,\u001b[49m\n\u001b[32m    678\u001b[39m \u001b[43m        \u001b[49m\u001b[43mchunked\u001b[49m\u001b[43m=\u001b[49m\u001b[43mchunked\u001b[49m\u001b[43m,\u001b[49m\n\u001b[32m    679\u001b[39m \u001b[43m    \u001b[49m\u001b[43m)\u001b[49m\n\u001b[32m    681\u001b[39m \u001b[38;5;28;01mexcept\u001b[39;00m (ProtocolError, \u001b[38;5;167;01mOSError\u001b[39;00m) \u001b[38;5;28;01mas\u001b[39;00m err:\n\u001b[32m    682\u001b[39m     \u001b[38;5;28;01mraise\u001b[39;00m \u001b[38;5;167;01mConnectionError\u001b[39;00m(err, request=request)\n",
      "\u001b[36mFile \u001b[39m\u001b[32m/usr/local/lib/python3.12/dist-packages/urllib3/connectionpool.py:787\u001b[39m, in \u001b[36mHTTPConnectionPool.urlopen\u001b[39m\u001b[34m(self, method, url, body, headers, retries, redirect, assert_same_host, timeout, pool_timeout, release_conn, chunked, body_pos, preload_content, decode_content, **response_kw)\u001b[39m\n\u001b[32m    784\u001b[39m response_conn = conn \u001b[38;5;28;01mif\u001b[39;00m \u001b[38;5;129;01mnot\u001b[39;00m release_conn \u001b[38;5;28;01melse\u001b[39;00m \u001b[38;5;28;01mNone\u001b[39;00m\n\u001b[32m    786\u001b[39m \u001b[38;5;66;03m# Make the request on the HTTPConnection object\u001b[39;00m\n\u001b[32m--> \u001b[39m\u001b[32m787\u001b[39m response = \u001b[38;5;28;43mself\u001b[39;49m\u001b[43m.\u001b[49m\u001b[43m_make_request\u001b[49m\u001b[43m(\u001b[49m\n\u001b[32m    788\u001b[39m \u001b[43m    \u001b[49m\u001b[43mconn\u001b[49m\u001b[43m,\u001b[49m\n\u001b[32m    789\u001b[39m \u001b[43m    \u001b[49m\u001b[43mmethod\u001b[49m\u001b[43m,\u001b[49m\n\u001b[32m    790\u001b[39m \u001b[43m    \u001b[49m\u001b[43murl\u001b[49m\u001b[43m,\u001b[49m\n\u001b[32m    791\u001b[39m \u001b[43m    \u001b[49m\u001b[43mtimeout\u001b[49m\u001b[43m=\u001b[49m\u001b[43mtimeout_obj\u001b[49m\u001b[43m,\u001b[49m\n\u001b[32m    792\u001b[39m \u001b[43m    \u001b[49m\u001b[43mbody\u001b[49m\u001b[43m=\u001b[49m\u001b[43mbody\u001b[49m\u001b[43m,\u001b[49m\n\u001b[32m    793\u001b[39m \u001b[43m    \u001b[49m\u001b[43mheaders\u001b[49m\u001b[43m=\u001b[49m\u001b[43mheaders\u001b[49m\u001b[43m,\u001b[49m\n\u001b[32m    794\u001b[39m \u001b[43m    \u001b[49m\u001b[43mchunked\u001b[49m\u001b[43m=\u001b[49m\u001b[43mchunked\u001b[49m\u001b[43m,\u001b[49m\n\u001b[32m    795\u001b[39m \u001b[43m    \u001b[49m\u001b[43mretries\u001b[49m\u001b[43m=\u001b[49m\u001b[43mretries\u001b[49m\u001b[43m,\u001b[49m\n\u001b[32m    796\u001b[39m \u001b[43m    \u001b[49m\u001b[43mresponse_conn\u001b[49m\u001b[43m=\u001b[49m\u001b[43mresponse_conn\u001b[49m\u001b[43m,\u001b[49m\n\u001b[32m    797\u001b[39m \u001b[43m    \u001b[49m\u001b[43mpreload_content\u001b[49m\u001b[43m=\u001b[49m\u001b[43mpreload_content\u001b[49m\u001b[43m,\u001b[49m\n\u001b[32m    798\u001b[39m \u001b[43m    \u001b[49m\u001b[43mdecode_content\u001b[49m\u001b[43m=\u001b[49m\u001b[43mdecode_content\u001b[49m\u001b[43m,\u001b[49m\n\u001b[32m    799\u001b[39m \u001b[43m    \u001b[49m\u001b[43m*\u001b[49m\u001b[43m*\u001b[49m\u001b[43mresponse_kw\u001b[49m\u001b[43m,\u001b[49m\n\u001b[32m    800\u001b[39m \u001b[43m\u001b[49m\u001b[43m)\u001b[49m\n\u001b[32m    802\u001b[39m \u001b[38;5;66;03m# Everything went great!\u001b[39;00m\n\u001b[32m    803\u001b[39m clean_exit = \u001b[38;5;28;01mTrue\u001b[39;00m\n",
      "\u001b[36mFile \u001b[39m\u001b[32m/usr/local/lib/python3.12/dist-packages/urllib3/connectionpool.py:534\u001b[39m, in \u001b[36mHTTPConnectionPool._make_request\u001b[39m\u001b[34m(self, conn, method, url, body, headers, retries, timeout, chunked, response_conn, preload_content, decode_content, enforce_content_length)\u001b[39m\n\u001b[32m    532\u001b[39m \u001b[38;5;66;03m# Receive the response from the server\u001b[39;00m\n\u001b[32m    533\u001b[39m \u001b[38;5;28;01mtry\u001b[39;00m:\n\u001b[32m--> \u001b[39m\u001b[32m534\u001b[39m     response = \u001b[43mconn\u001b[49m\u001b[43m.\u001b[49m\u001b[43mgetresponse\u001b[49m\u001b[43m(\u001b[49m\u001b[43m)\u001b[49m\n\u001b[32m    535\u001b[39m \u001b[38;5;28;01mexcept\u001b[39;00m (BaseSSLError, \u001b[38;5;167;01mOSError\u001b[39;00m) \u001b[38;5;28;01mas\u001b[39;00m e:\n\u001b[32m    536\u001b[39m     \u001b[38;5;28mself\u001b[39m._raise_timeout(err=e, url=url, timeout_value=read_timeout)\n",
      "\u001b[36mFile \u001b[39m\u001b[32m/usr/local/lib/python3.12/dist-packages/urllib3/connection.py:516\u001b[39m, in \u001b[36mHTTPConnection.getresponse\u001b[39m\u001b[34m(self)\u001b[39m\n\u001b[32m    513\u001b[39m _shutdown = \u001b[38;5;28mgetattr\u001b[39m(\u001b[38;5;28mself\u001b[39m.sock, \u001b[33m\"\u001b[39m\u001b[33mshutdown\u001b[39m\u001b[33m\"\u001b[39m, \u001b[38;5;28;01mNone\u001b[39;00m)\n\u001b[32m    515\u001b[39m \u001b[38;5;66;03m# Get the response from http.client.HTTPConnection\u001b[39;00m\n\u001b[32m--> \u001b[39m\u001b[32m516\u001b[39m httplib_response = \u001b[38;5;28;43msuper\u001b[39;49m\u001b[43m(\u001b[49m\u001b[43m)\u001b[49m\u001b[43m.\u001b[49m\u001b[43mgetresponse\u001b[49m\u001b[43m(\u001b[49m\u001b[43m)\u001b[49m\n\u001b[32m    518\u001b[39m \u001b[38;5;28;01mtry\u001b[39;00m:\n\u001b[32m    519\u001b[39m     assert_header_parsing(httplib_response.msg)\n",
      "\u001b[36mFile \u001b[39m\u001b[32m/usr/lib/python3.12/http/client.py:1430\u001b[39m, in \u001b[36mHTTPConnection.getresponse\u001b[39m\u001b[34m(self)\u001b[39m\n\u001b[32m   1428\u001b[39m \u001b[38;5;28;01mtry\u001b[39;00m:\n\u001b[32m   1429\u001b[39m     \u001b[38;5;28;01mtry\u001b[39;00m:\n\u001b[32m-> \u001b[39m\u001b[32m1430\u001b[39m         \u001b[43mresponse\u001b[49m\u001b[43m.\u001b[49m\u001b[43mbegin\u001b[49m\u001b[43m(\u001b[49m\u001b[43m)\u001b[49m\n\u001b[32m   1431\u001b[39m     \u001b[38;5;28;01mexcept\u001b[39;00m \u001b[38;5;167;01mConnectionError\u001b[39;00m:\n\u001b[32m   1432\u001b[39m         \u001b[38;5;28mself\u001b[39m.close()\n",
      "\u001b[36mFile \u001b[39m\u001b[32m/usr/lib/python3.12/http/client.py:331\u001b[39m, in \u001b[36mHTTPResponse.begin\u001b[39m\u001b[34m(self)\u001b[39m\n\u001b[32m    329\u001b[39m \u001b[38;5;66;03m# read until we get a non-100 response\u001b[39;00m\n\u001b[32m    330\u001b[39m \u001b[38;5;28;01mwhile\u001b[39;00m \u001b[38;5;28;01mTrue\u001b[39;00m:\n\u001b[32m--> \u001b[39m\u001b[32m331\u001b[39m     version, status, reason = \u001b[38;5;28;43mself\u001b[39;49m\u001b[43m.\u001b[49m\u001b[43m_read_status\u001b[49m\u001b[43m(\u001b[49m\u001b[43m)\u001b[49m\n\u001b[32m    332\u001b[39m     \u001b[38;5;28;01mif\u001b[39;00m status != CONTINUE:\n\u001b[32m    333\u001b[39m         \u001b[38;5;28;01mbreak\u001b[39;00m\n",
      "\u001b[36mFile \u001b[39m\u001b[32m/usr/lib/python3.12/http/client.py:292\u001b[39m, in \u001b[36mHTTPResponse._read_status\u001b[39m\u001b[34m(self)\u001b[39m\n\u001b[32m    291\u001b[39m \u001b[38;5;28;01mdef\u001b[39;00m\u001b[38;5;250m \u001b[39m\u001b[34m_read_status\u001b[39m(\u001b[38;5;28mself\u001b[39m):\n\u001b[32m--> \u001b[39m\u001b[32m292\u001b[39m     line = \u001b[38;5;28mstr\u001b[39m(\u001b[38;5;28;43mself\u001b[39;49m\u001b[43m.\u001b[49m\u001b[43mfp\u001b[49m\u001b[43m.\u001b[49m\u001b[43mreadline\u001b[49m\u001b[43m(\u001b[49m\u001b[43m_MAXLINE\u001b[49m\u001b[43m \u001b[49m\u001b[43m+\u001b[49m\u001b[43m \u001b[49m\u001b[32;43m1\u001b[39;49m\u001b[43m)\u001b[49m, \u001b[33m\"\u001b[39m\u001b[33miso-8859-1\u001b[39m\u001b[33m\"\u001b[39m)\n\u001b[32m    293\u001b[39m     \u001b[38;5;28;01mif\u001b[39;00m \u001b[38;5;28mlen\u001b[39m(line) > _MAXLINE:\n\u001b[32m    294\u001b[39m         \u001b[38;5;28;01mraise\u001b[39;00m LineTooLong(\u001b[33m\"\u001b[39m\u001b[33mstatus line\u001b[39m\u001b[33m\"\u001b[39m)\n",
      "\u001b[36mFile \u001b[39m\u001b[32m/usr/lib/python3.12/socket.py:720\u001b[39m, in \u001b[36mSocketIO.readinto\u001b[39m\u001b[34m(self, b)\u001b[39m\n\u001b[32m    718\u001b[39m \u001b[38;5;28;01mwhile\u001b[39;00m \u001b[38;5;28;01mTrue\u001b[39;00m:\n\u001b[32m    719\u001b[39m     \u001b[38;5;28;01mtry\u001b[39;00m:\n\u001b[32m--> \u001b[39m\u001b[32m720\u001b[39m         \u001b[38;5;28;01mreturn\u001b[39;00m \u001b[38;5;28;43mself\u001b[39;49m\u001b[43m.\u001b[49m\u001b[43m_sock\u001b[49m\u001b[43m.\u001b[49m\u001b[43mrecv_into\u001b[49m\u001b[43m(\u001b[49m\u001b[43mb\u001b[49m\u001b[43m)\u001b[49m\n\u001b[32m    721\u001b[39m     \u001b[38;5;28;01mexcept\u001b[39;00m timeout:\n\u001b[32m    722\u001b[39m         \u001b[38;5;28mself\u001b[39m._timeout_occurred = \u001b[38;5;28;01mTrue\u001b[39;00m\n",
      "\u001b[31mKeyboardInterrupt\u001b[39m: "
     ]
    }
   ],
   "source": [
    "import requests\n",
    "import json\n",
    "import time\n",
    "\n",
    "\n",
    "execution_times = []\n",
    "\n",
    "for i in range(20):\n",
    "    start_time = time.time()\n",
    "    response = requests.post(\"http://localhost:5000/receive\", json=data)\n",
    "    end_time = time.time()\n",
    "    \n",
    "    duration = end_time - start_time\n",
    "    execution_times.append(duration)\n",
    "    \n",
    "    print(\"Status Code:\", response.status_code)\n",
    "\n",
    "# Summary\n",
    "avg_time = sum(execution_times) / len(execution_times)\n",
    "min_time = min(execution_times)\n",
    "max_time = max(execution_times)\n",
    "\n",
    "print(\"\\n📊 Benchmark Summary:\")\n",
    "print(f\"Average time: {avg_time:.3f} seconds\")\n",
    "print(f\"Minimum time: {min_time:.3f} seconds\")\n",
    "print(f\"Maximum time: {max_time:.3f} seconds\")\n"
   ]
  },
  {
   "cell_type": "code",
   "execution_count": 204,
   "id": "6e8bc1c9-3e34-4d0e-af7c-7f2fab404b8b",
   "metadata": {},
   "outputs": [
    {
     "data": {
      "text/plain": [
       "[8.297849416732788, 8.7097806930542, 8.680003881454468, 8.670521020889282]"
      ]
     },
     "execution_count": 204,
     "metadata": {},
     "output_type": "execute_result"
    }
   ],
   "source": [
    "execution_times"
   ]
  },
  {
   "cell_type": "code",
   "execution_count": null,
   "id": "4424790d-f8f0-4ed7-9b5c-24300fa25f26",
   "metadata": {},
   "outputs": [],
   "source": [
    "async def  your_meeting_assistant(data): \n",
    "    # get priority of meeting\n",
    "    priority_result = asyncio.run(get_priority_async(data[\"EmailContent\"]))\n",
    "    priority = priority_result.data.priority\n",
    "    \n",
    "    #get the timeframe Entire available timeframe not just meeting timeframe\n",
    "    meeting_agent_results = await meeting_agent.run(data[\"EmailContent\"])\n",
    "    response_data_meeting = {\n",
    "        \"start_timeframe\": meeting_agent_results.data.start_timeframe,\n",
    "        \"end_timeframe\": meeting_agent_results.data.end_timeframe,\n",
    "        \"duration_minutes\": meeting_agent_results.data.duration_minutes,\n",
    "        \"success\": True,\n",
    "        \"message\": \"Successfully extracted meeting timeframes\"\n",
    "    }\n",
    "\n",
    "\n",
    "    if data[\"Priority\"] == 'high':\n",
    "        start_time = datetime.fromisoformat(response_data_meeting['start_timeframe'])\n",
    "        end_time = start_time + timedelta(minutes=response_data_meeting['duration_minutes'])\n",
    "        response_data_meeting['end_timeframe'] = end_time.isoformat()\n",
    "        \n",
    "\n",
    "    #get Attendees\n",
    "    attendees = []\n",
    "    for attendee in data[\"Attendees\"]:\n",
    "        attendees.append(attendee[\"email\"])\n",
    "        \n",
    "    free_slots = get_free_time_slots(attendees, response_data[\"duration_minutes\"], response_data[\"start_timeframe\"], response_data[\"end_timeframe\"])\n",
    "    if free_slots == 'No available time slots found for the specified duration\\n ':\n",
    "        free_slots = get_free_time_slots_priority(attendees, response_data[\"duration_minutes\"], response_data[\"start_timeframe\"], response_data[\"end_timeframe\"], data[\"Priority\"], len(data[\"Attendees\"]))\n",
    "\n",
    "\n",
    "    slots_agent_results =  await slots_agents.run(f\"Free Slots {free_slots} Duration: {response_data[\"duration_minutes\"]}\")\n",
    "    print(slots_agent_results)\n",
    "    response_data_slots = {\n",
    "        \"start_timeframe\": slots_agent_results.data.start_timeframe\n",
    "    }\n",
    "\n",
    "    #parsing the response\n",
    "    raw = response_data_slots[\"start_timeframe\"].strip()\n",
    "    try:\n",
    "        dt = parser.isoparse(raw)  # Faster, stricter ISO parser\n",
    "    except Exception:\n",
    "        dt = parser.parse(raw) \n",
    "    available_start_time = dt.strftime(\"%Y-%m-%dT%H:%M:%S%z\")\n",
    "    available_end_dt = dt + timedelta(minutes=response_data_meeting[\"duration_minutes\"])\n",
    "    available_end_time = available_end_dt.strftime(\"%Y-%m-%dT%H:%M:%S%z\")\n",
    "\n",
    "    \n",
    "    output = {}\n",
    "    output[\"Request_id\"] = data[\"Request_id\"]\n",
    "    output[\"Datetime\"] = data[\"Datetime\"]\n",
    "    output[\"Location\"] = data[\"Location\"]\n",
    "    output[\"Request_id\"] = data[\"Request_id\"]\n",
    "    output[\"From\"] = data[\"From\"]\n",
    "    output[\"Location\"] = data[\"Location\"]\n",
    "    output[\"Attendees\"] = data[\"Attendees\"]\n",
    "    output[\"Subject\"] = data[\"Subject\"]\n",
    "    output[\"EmailContent\"] = data[\"EmailContent\"]\n",
    "    output[\"EventStart\"] = available_start_time\n",
    "    output[\"EventEnd\"] = available_end_time\n",
    "    output[\"Duration_mins\"] =  str(response_data_meeting[\"duration_minutes\"])\n",
    "    output[\"MetaData\"] = {}\n",
    "    for i  in range(len(output[\"Attendees\"])):\n",
    "        email = output[\"Attendees\"][i][\"email\"]\n",
    "        output[\"Attendees\"][i][\"events\"] = retrieve_calendar_events(\n",
    "            user = email,\n",
    "            start = response_data_meeting[\"start_timeframe\"], \n",
    "            end = response_data_meeting[\"end_timeframe\"]\n",
    "        )\n",
    "    return output"
   ]
  },
  {
   "cell_type": "code",
   "execution_count": null,
   "id": "da6c2787-3fc2-4697-97ec-db22fd1cf1ca",
   "metadata": {},
   "outputs": [],
   "source": [
    "from flask import Flask, request, jsonify\n",
    "import asyncio\n",
    "import json\n",
    "\n",
    "app = Flask(__name__)\n",
    "received_data = []\n",
    "\n",
    "@app.route('/receive', methods=['POST'])\n",
    "def receive():\n",
    "    data = request.get_json()\n",
    "    print(f\"\\n Received: {json.dumps(data, indent=2)}\")\n",
    "    \n",
    "    # Run async function in sync context\n",
    "    new_data = asyncio.run(your_meeting_assistant(data))\n",
    "\n",
    "    received_data.append(data)\n",
    "    print(f\"\\n\\n\\n Sending:\\n {json.dumps(new_data, indent=2)}\")\n",
    "    return jsonify(new_data)\n",
    "\n",
    "if __name__ == '__main__':\n",
    "    app.run(host='0.0.0.0', port=5050, debug=False, use_reloader=False)"
   ]
  }
 ],
 "metadata": {
  "kernelspec": {
   "display_name": "Python 3 (ipykernel)",
   "language": "python",
   "name": "python3"
  },
  "language_info": {
   "codemirror_mode": {
    "name": "ipython",
    "version": 3
   },
   "file_extension": ".py",
   "mimetype": "text/x-python",
   "name": "python",
   "nbconvert_exporter": "python",
   "pygments_lexer": "ipython3",
   "version": "3.12.10"
  }
 },
 "nbformat": 4,
 "nbformat_minor": 5
}
