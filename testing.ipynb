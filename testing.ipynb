{
 "cells": [
  {
   "cell_type": "code",
   "execution_count": 33,
   "id": "75d0e861-711e-4306-86ca-3d45853a305e",
   "metadata": {},
   "outputs": [
    {
     "name": "stdout",
     "output_type": "stream",
     "text": [
      "Config set: http://localhost:8000/v1\n"
     ]
    }
   ],
   "source": [
    "import os\n",
    "\n",
    "BASE_URL = f\"http://localhost:8000/v1\"\n",
    "\n",
    "os.environ[\"BASE_URL\"]    = BASE_URL\n",
    "os.environ[\"OPENAI_API_KEY\"] = \"abc-123\"   \n",
    "\n",
    "print(\"Config set:\", BASE_URL)"
   ]
  },
  {
   "cell_type": "code",
   "execution_count": 34,
   "id": "519bd58e-9116-41aa-8ab4-f55ea689dfef",
   "metadata": {},
   "outputs": [],
   "source": [
    "\n",
    "from pydantic_ai import Agent\n",
    "from pydantic_ai.mcp import MCPServerSSE\n",
    "\n",
    "server = server = MCPServerSSE('http://localhost:8090/sse') "
   ]
  },
  {
   "cell_type": "code",
   "execution_count": 92,
   "id": "f59a9ec8-02f9-4a79-be00-52cd52f8f16e",
   "metadata": {},
   "outputs": [],
   "source": [
    "from pydantic_ai.models.openai import OpenAIModel\n",
    "from pydantic_ai.providers.openai import OpenAIProvider\n",
    "\n",
    "provider = OpenAIProvider(\n",
    "    base_url=os.environ[\"BASE_URL\"],\n",
    "    api_key=os.environ[\"OPENAI_API_KEY\"],\n",
    ")\n",
    "\n",
    "agent_model = OpenAIModel(\"Qwen3-8B\", provider=provider)"
   ]
  },
  {
   "cell_type": "code",
   "execution_count": 93,
   "id": "9e25d010-e2e5-4b37-a176-fa072d908ed1",
   "metadata": {},
   "outputs": [],
   "source": [
    "import json\n",
    "from datetime import datetime, timezone, timedelta\n",
    "from google.oauth2.credentials import Credentials\n",
    "from googleapiclient.discovery import build\n",
    "\n",
    "def retrive_calendar_events(user, start, end):\n",
    "    events_list = []\n",
    "    token_path = \"Keys/\"+user.split(\"@\")[0]+\".token\"\n",
    "    user_creds = Credentials.from_authorized_user_file(token_path)\n",
    "    calendar_service = build(\"calendar\", \"v3\", credentials=user_creds)\n",
    "    events_result = calendar_service.events().list(calendarId='primary', timeMin=start,timeMax=end,singleEvents=True,orderBy='startTime').execute()\n",
    "    events = events_result.get('items')\n",
    "    \n",
    "    for event in events : \n",
    "        attendee_list = []\n",
    "        try:\n",
    "            for attendee in event[\"attendees\"]: \n",
    "                attendee_list.append(attendee['email'])\n",
    "        except: \n",
    "            attendee_list.append(\"SELF\")\n",
    "        start_time = event[\"start\"][\"dateTime\"]\n",
    "        end_time = event[\"end\"][\"dateTime\"]\n",
    "        events_list.append(\n",
    "            {\"StartTime\" : start_time, \n",
    "             \"EndTime\": end_time, \n",
    "             \"NumAttendees\" :len(set(attendee_list)), \n",
    "             \"Attendees\" : list(set(attendee_list)),\n",
    "             \"Summary\" : event[\"summary\"]})\n",
    "    return events_list"
   ]
  },
  {
   "cell_type": "code",
   "execution_count": null,
   "id": "ccc7466b-9235-4821-bc5e-68ee62f69493",
   "metadata": {},
   "outputs": [],
   "source": [
    "'["
   ]
  },
  {
   "cell_type": "code",
   "execution_count": 94,
   "id": "b17b7eca-afa3-4965-8cb0-c4307dfd7f80",
   "metadata": {},
   "outputs": [
    {
     "data": {
      "text/plain": [
       "[]"
      ]
     },
     "execution_count": 94,
     "metadata": {},
     "output_type": "execute_result"
    }
   ],
   "source": [
    "event = retrive_calendar_events(\"userone.amd@gmail.com\", '2025-07-17T00:00:00+05:30', '2025-07-16T00:00:00+05:30')\n",
    "event"
   ]
  },
  {
   "cell_type": "code",
   "execution_count": null,
   "id": "7d01fdab-351f-48d5-a660-1de7eee540bd",
   "metadata": {},
   "outputs": [],
   "source": [
    "data = {\n",
    "    \"Request_id\": \"6118b54f-907b-4451-8d48-dd13d76033a5\",\n",
    "    \"Datetime\": \"19-07-2025T12:34:55\",\n",
    "    \"Location\": \"IISc Bangalore\",\n",
    "    \"From\": \"userone.amd@gmail.com\",\n",
    "    \"Attendees\": [\n",
    "        {\n",
    "            \"email\": \"usertwo.amd@gmail.com\"\n",
    "        },\n",
    "        {\n",
    "            \"email\": \"userthree.amd@gmail.com\"\n",
    "        }\n",
    "    ],\n",
    "    \"Subject\": \"Agentic AI Project Status Update\",\n",
    "    \"EmailContent\": \"Hi team, let's meet on Thursday for 30 minutes to discuss the status of Agentic AI Project.\"\n",
    "}\n",
    "\n",
    "output = {}\n",
    "output[\"Request_id\"] = data[\"Request_id\"]\n",
    "output[\"Datetime\"] = data[\"Datetime\"]\n",
    "output[\"Location\"] = data[\"Location\"]\n",
    "output[\"Request_id\"] = data[\"Request_id\"]\n",
    "output[\"From\"] = data[\"From\"]\n",
    "output[\"Location\"] = data[\"Location\"]\n",
    "output[\"Attendees\"] = data[\"Attendees\"]\n",
    "for i in range(len(output[\"Attendees\"])):\n",
    "    email = output[\"Attendees\"][\"email\"]\n",
    "    occupied = \n"
   ]
  },
  {
   "cell_type": "code",
   "execution_count": 42,
   "id": "ef2dc1de-2461-41b3-b4c0-19635b2c28c4",
   "metadata": {},
   "outputs": [],
   "source": [
    "SYSTEM_PROMPT = \"\"\"\n",
    "\n",
    "\"\"\"\n",
    "\n",
    "inp = \"\"\"\n",
    "{\n",
    "    \"Request_id\": \"6118b54f-907b-4451-8d48-dd13d76033a5\",\n",
    "    \"Datetime\": \"19-07-2025T12:34:55\",\n",
    "    \"Location\": \"IISc Bangalore\",\n",
    "    \"From\": \"userone.amd@gmail.com\",\n",
    "    \"Attendees\": [\n",
    "        {\n",
    "            \"email\": \"usertwo.amd@gmail.com\"\n",
    "        },\n",
    "        {\n",
    "            \"email\": \"userthree.amd@gmail.com\"\n",
    "        }\n",
    "    ],\n",
    "    \"Subject\": \"Agentic AI Project Status Update\",\n",
    "    \"EmailContent\": \"Hi team, let's meet on Thursday for 30 minutes to discuss the status of Agentic AI Project.\"\n",
    "}\n",
    "\"\"\""
   ]
  },
  {
   "cell_type": "code",
   "execution_count": 96,
   "id": "841ae11f-80bd-4c1c-af0a-13cabba77eef",
   "metadata": {},
   "outputs": [],
   "source": [
    "from pydantic_ai import Agent\n",
    "\n",
    "agent = Agent(\n",
    "    model=agent_model,\n",
    "    toolsets=[server],\n",
    "    system_prompt = SYSTEM_PROMPT\n",
    ")"
   ]
  },
  {
   "cell_type": "code",
   "execution_count": 97,
   "id": "8c38b166-1bfe-4209-9865-59d88423da9b",
   "metadata": {},
   "outputs": [],
   "source": [
    "import asyncio\n",
    "from pydantic_ai.mcp import MCPServerStdio\n",
    "async def run_async(prompt: str) -> str:\n",
    "    async with agent.run_mcp_servers():\n",
    "        result = await agent.run(prompt)\n",
    "        return result.output\n"
   ]
  },
  {
   "cell_type": "code",
   "execution_count": 98,
   "id": "656d0cfa-2d11-4990-8005-dc88eb74f46e",
   "metadata": {},
   "outputs": [
    {
     "name": "stdout",
     "output_type": "stream",
     "text": [
      "Result: \n",
      "\n",
      "The current date is **July 19, 2025**, and the day of the week is **Thursday**.\n",
      "Elapsed time: 4.29 seconds\n"
     ]
    }
   ],
   "source": [
    "import time\n",
    "import asyncio\n",
    "\n",
    "start = time.perf_counter()\n",
    "result = await run_async(\"current date and day of the week\")\n",
    "end = time.perf_counter()\n",
    "\n",
    "print(f\"Result: {result}\")\n",
    "print(f\"Elapsed time: {end - start:.2f} seconds\")"
   ]
  },
  {
   "cell_type": "code",
   "execution_count": 99,
   "id": "7196867a-86b4-423a-b59d-f8548f78cba0",
   "metadata": {},
   "outputs": [
    {
     "ename": "SyntaxError",
     "evalue": "invalid decimal literal (3612579796.py, line 2)",
     "output_type": "error",
     "traceback": [
      "  \u001b[36mCell\u001b[39m\u001b[36m \u001b[39m\u001b[32mIn[99]\u001b[39m\u001b[32m, line 2\u001b[39m\n\u001b[31m    \u001b[39m\u001b[31mvllm serve Qwen/Qwen3-8B \\\u001b[39m\n                          ^\n\u001b[31mSyntaxError\u001b[39m\u001b[31m:\u001b[39m invalid decimal literal\n"
     ]
    }
   ],
   "source": [
    "VLLM_USE_TRITON_FLASH_ATTN=0 \\\n",
    "vllm serve Qwen/Qwen3-8B \\\n",
    "    --served-model-name Qwen3-8B \\\n",
    "    --api-key abc-123 \\\n",
    "    --port 8000 \\\n",
    "    --enable-auto-tool-choice \\\n",
    "    --tool-call-parser hermes \\\n",
    "    --trust-remote-code"
   ]
  },
  {
   "cell_type": "code",
   "execution_count": 177,
   "id": "0c371c72-f4a3-4931-a198-333c00ff8bea",
   "metadata": {},
   "outputs": [],
   "source": [
    "from datetime import datetime\n",
    "\n",
    "def merge_intervals(intervals):\n",
    "    if not intervals:\n",
    "        return []\n",
    "\n",
    "    # Sort by start time\n",
    "    intervals.sort(key=lambda x: x[0])\n",
    "    merged = [intervals[0]]\n",
    "\n",
    "    for current_start, current_end in intervals[1:]:\n",
    "        last_start, last_end = merged[-1]\n",
    "        if current_start <= last_end:\n",
    "            merged[-1] = (last_start, max(last_end, current_end))  # Merge overlapping\n",
    "        else:\n",
    "            merged.append((current_start, current_end))\n",
    "    return merged\n",
    "\n",
    "def get_available_time_slots(attendees, duration_minutes, start_date, end_date):\n",
    "\n",
    "    user_availabilities = []\n",
    "\n",
    "    for user in attendees:\n",
    "        events = retrive_calendar_events(user, start_date, end_date)\n",
    "        for event in events:\n",
    "            start = datetime.fromisoformat(event[\"StartTime\"])\n",
    "            end = datetime.fromisoformat(event[\"EndTime\"])\n",
    "            user_availabilities.append((start, end))\n",
    "\n",
    "    merged_unavailable = merge_intervals(user_availabilities)\n",
    "    available = []\n",
    "    duration = timedelta(minutes=duration_minutes)\n",
    "    if merged_unavailable[0][0] -  datetime.fromisoformat(start_date)>=duration:\n",
    "        available.append((start_date,merged_unavailable[0][0].strftime('%Y-%m-%d %H:%M:%S %z')))\n",
    "    for i in range(1,len(merged_unavailable)):\n",
    "        if (merged_unavailable[i][0] - merged_unavailable[i-1][1] )>=duration:\n",
    "            available.append((merged_unavailable[i-1][1].strftime('%Y-%m-%d %H:%M:%S %z'),merged_unavailable[i][0].strftime('%Y-%m-%d %H:%M:%S %z')))\n",
    "    if (datetime.fromisoformat(end_date)-merged_unavailable[-1][1])>=duration:\n",
    "        available.append((merged_unavailable[-1][1].strftime('%Y-%m-%d %H:%M:%S %z'),end_date))\n",
    "    slots = \"\"\n",
    "    for s,e in available:\n",
    "        slots+= (s+\"-\"+e+\",\\n \")\n",
    "    return slots"
   ]
  },
  {
   "cell_type": "code",
   "execution_count": 181,
   "id": "d3d9d7d2-6fd1-4512-b098-c24c23b18691",
   "metadata": {},
   "outputs": [],
   "source": [
    "f = example_usage([\"userone.amd@gmail.com\",\"usertwo.amd@gmail.com\"],60,'2025-07-17T00:00:00+05:30', '2025-07-18T23:59:59+05:30')"
   ]
  },
  {
   "cell_type": "code",
   "execution_count": 186,
   "id": "e68c1b6d-9614-4438-9071-e91c166b0d86",
   "metadata": {},
   "outputs": [
    {
     "data": {
      "text/plain": [
       "'2025-07-17 09:00:00 +0530-2025-07-17 18:00:00 +0530,\\n 2025-07-18 17:00:00 +0530-2025-07-18 18:00:00 +0530,\\n '"
      ]
     },
     "execution_count": 186,
     "metadata": {},
     "output_type": "execute_result"
    }
   ],
   "source": [
    "slots = \"\"\n",
    "for s,e in f:\n",
    "    slots+= (s+\"-\"+e+\",\\n \")\n",
    "slots"
   ]
  },
  {
   "cell_type": "code",
   "execution_count": 128,
   "id": "905fde5c-093f-4bf9-babb-36d2dc2923d8",
   "metadata": {},
   "outputs": [
    {
     "data": {
      "text/plain": [
       "[{'StartTime': '2025-07-16T18:00:00+05:30',\n",
       "  'EndTime': '2025-07-17T09:00:00+05:30',\n",
       "  'NumAttendees': 1,\n",
       "  'Attendees': ['SELF'],\n",
       "  'Summary': 'Off Hours'},\n",
       " {'StartTime': '2025-07-17T18:00:00+05:30',\n",
       "  'EndTime': '2025-07-18T09:00:00+05:30',\n",
       "  'NumAttendees': 1,\n",
       "  'Attendees': ['SELF'],\n",
       "  'Summary': 'Off Hours'},\n",
       " {'StartTime': '2025-07-18T18:00:00+05:30',\n",
       "  'EndTime': '2025-07-19T09:00:00+05:30',\n",
       "  'NumAttendees': 1,\n",
       "  'Attendees': ['SELF'],\n",
       "  'Summary': 'Off Hours'}]"
      ]
     },
     "execution_count": 128,
     "metadata": {},
     "output_type": "execute_result"
    }
   ],
   "source": [
    "event = retrive_calendar_events(\"userone.amd@gmail.com\", '2025-07-17T00:00:00+05:30', '2025-07-18T23:59:59+05:30')\n",
    "event"
   ]
  },
  {
   "cell_type": "code",
   "execution_count": 121,
   "id": "560f97dc-e2db-44c0-bd08-57909c2db61f",
   "metadata": {},
   "outputs": [
    {
     "data": {
      "text/plain": [
       "[{'StartTime': '2025-07-16T18:00:00+05:30',\n",
       "  'EndTime': '2025-07-17T09:00:00+05:30',\n",
       "  'NumAttendees': 1,\n",
       "  'Attendees': ['SELF'],\n",
       "  'Summary': 'Off Hours'},\n",
       " {'StartTime': '2025-07-17T18:00:00+05:30',\n",
       "  'EndTime': '2025-07-18T09:00:00+05:30',\n",
       "  'NumAttendees': 1,\n",
       "  'Attendees': ['SELF'],\n",
       "  'Summary': 'Off Hours'},\n",
       " {'StartTime': '2025-07-18T09:00:00+05:30',\n",
       "  'EndTime': '2025-07-18T17:00:00+05:30',\n",
       "  'NumAttendees': 1,\n",
       "  'Attendees': ['SELF'],\n",
       "  'Summary': 'Workshop Advance AI'},\n",
       " {'StartTime': '2025-07-18T18:00:00+05:30',\n",
       "  'EndTime': '2025-07-19T09:00:00+05:30',\n",
       "  'NumAttendees': 1,\n",
       "  'Attendees': ['SELF'],\n",
       "  'Summary': 'Off Hours'}]"
      ]
     },
     "execution_count": 121,
     "metadata": {},
     "output_type": "execute_result"
    }
   ],
   "source": [
    "event = retrive_calendar_events(\"usertwo.amd@gmail.com\", '2025-07-17T00:00:00+05:30', '2025-07-18T23:59:59+05:30')\n",
    "event"
   ]
  },
  {
   "cell_type": "code",
   "execution_count": null,
   "id": "4f743318-b467-4418-b072-c7ed91b676ac",
   "metadata": {},
   "outputs": [],
   "source": []
  }
 ],
 "metadata": {
  "kernelspec": {
   "display_name": "Python 3 (ipykernel)",
   "language": "python",
   "name": "python3"
  },
  "language_info": {
   "codemirror_mode": {
    "name": "ipython",
    "version": 3
   },
   "file_extension": ".py",
   "mimetype": "text/x-python",
   "name": "python",
   "nbconvert_exporter": "python",
   "pygments_lexer": "ipython3",
   "version": "3.12.10"
  }
 },
 "nbformat": 4,
 "nbformat_minor": 5
}
