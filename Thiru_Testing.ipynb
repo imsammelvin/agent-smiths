{
 "cells": [
  {
   "cell_type": "code",
   "execution_count": 1,
   "id": "5afe6b39-fc45-4eb3-84d1-b0acce5241b1",
   "metadata": {},
   "outputs": [
    {
     "name": "stdout",
     "output_type": "stream",
     "text": [
      "Config set: http://localhost:3000/v1\n"
     ]
    }
   ],
   "source": [
    "import os\n",
    "\n",
    "BASE_URL = f\"http://localhost:3000/v1\"\n",
    "\n",
    "os.environ[\"BASE_URL\"]    = BASE_URL\n",
    "os.environ[\"OPENAI_API_KEY\"] = \"abc-123\"   \n",
    "\n",
    "print(\"Config set:\", BASE_URL)"
   ]
  },
  {
   "cell_type": "code",
   "execution_count": 2,
   "id": "af4143aa-0d62-4ab8-a68b-b78e3e881cac",
   "metadata": {},
   "outputs": [
    {
     "name": "stdout",
     "output_type": "stream",
     "text": [
      "{\"object\":\"list\",\"data\":[{\"id\":\"/home/user/Models/deepseek-ai/deepseek-llm-7b-chat\",\"object\":\"model\",\"created\":1752925351,\"owned_by\":\"vllm\",\"root\":\"/home/user/Models/deepseek-ai/deepseek-llm-7b-chat\",\"parent\":null,\"max_model_len\":2048,\"permission\":[{\"id\":\"modelperm-1a1f2d6fe4de47ca96d063fef7aed1f5\",\"object\":\"model_permission\",\"created\":1752925351,\"allow_create_engine\":false,\"allow_sampling\":true,\"allow_logprobs\":true,\"allow_search_indices\":false,\"allow_view\":true,\"allow_fine_tuning\":false,\"organization\":\"*\",\"group\":null,\"is_blocking\":false}]}]}"
     ]
    }
   ],
   "source": [
    "!curl http://localhost:3000/v1/models -H \"Authorization: Bearer $OPENAI_API_KEY\""
   ]
  },
  {
   "cell_type": "code",
   "execution_count": 3,
   "id": "85915744-2c51-473f-a400-68e053f494a8",
   "metadata": {},
   "outputs": [
    {
     "name": "stdout",
     "output_type": "stream",
     "text": [
      "\u001b[33mWARNING: Running pip as the 'root' user can result in broken permissions and conflicting behaviour with the system package manager, possibly rendering your system unusable. It is recommended to use a virtual environment instead: https://pip.pypa.io/warnings/venv. Use the --root-user-action option if you know what you are doing and want to suppress this warning.\u001b[0m\u001b[33m\n",
      "\u001b[0m"
     ]
    }
   ],
   "source": [
    "!pip install -q pydantic_ai openai     "
   ]
  },
  {
   "cell_type": "code",
   "execution_count": 35,
   "id": "060cb7c9-e1d4-492b-b8b5-bbf99a4ee117",
   "metadata": {},
   "outputs": [],
   "source": [
    "from pydantic_ai.models.openai import OpenAIModel\n",
    "from pydantic_ai.providers.openai import OpenAIProvider\n",
    "\n",
    "provider = OpenAIProvider(\n",
    "    base_url=\"http://localhost:3000/v1\",  # Your vLLM server\n",
    "    api_key=\"dummy\",  # vLLM doesn't require real API key\n",
    ")\n",
    "agent_model = OpenAIModel(\"/home/user/Models/deepseek-ai/deepseek-llm-7b-chat\", provider=provider)"
   ]
  },
  {
   "cell_type": "code",
   "execution_count": 36,
   "id": "4ab5d8d8-ea53-48d2-b91b-1154a14b1537",
   "metadata": {},
   "outputs": [],
   "source": [
    "from pydantic_ai import Agent\n",
    "\n",
    "agent = Agent(\n",
    "    model=agent_model\n",
    ")"
   ]
  },
  {
   "cell_type": "code",
   "execution_count": 37,
   "id": "7fc94528-e0e3-4a0a-a4fa-23db5869b14e",
   "metadata": {},
   "outputs": [],
   "source": [
    "import asyncio\n",
    "from pydantic_ai.mcp import MCPServerStdio\n",
    "async def run_async(prompt: str) -> str:\n",
    "    async with agent.run_mcp_servers():\n",
    "        result = await agent.run(prompt)\n",
    "        return result.output\n"
   ]
  },
  {
   "cell_type": "code",
   "execution_count": 42,
   "id": "c69f6eeb-1027-44f5-888a-f9dfd2798dbd",
   "metadata": {},
   "outputs": [],
   "source": [
    "from datetime import datetime\n",
    "from mcp.server.fastmcp import FastMCP\n",
    "app = FastMCP()\n",
    "app.tool()\n",
    "def get_current_date() -> str:\n",
    "    \"\"\"Return the current date/time as an ISO-formatted string.\"\"\"\n",
    "    return datetime.now().strftime(\"%Y-%m-%d %H:%M:%S\")"
   ]
  },
  {
   "cell_type": "code",
   "execution_count": 43,
   "id": "6530a92a-999b-410e-b4df-dd02cb734351",
   "metadata": {},
   "outputs": [],
   "source": [
    "import json\n",
    "from datetime import datetime, timezone, timedelta\n",
    "from google.oauth2.credentials import Credentials\n",
    "from googleapiclient.discovery import build"
   ]
  },
  {
   "cell_type": "code",
   "execution_count": 44,
   "id": "be6e5ffa-b034-40cc-b155-ae45f2bbc191",
   "metadata": {},
   "outputs": [],
   "source": [
    "@app.tool()\n",
    "def retrive_calendar_events(user, start, end):\n",
    "    events_list = []\n",
    "    token_path = \"Keys/\"+user.split(\"@\")[0]+\".token\"\n",
    "    user_creds = Credentials.from_authorized_user_file(token_path)\n",
    "    calendar_service = build(\"calendar\", \"v3\", credentials=user_creds)\n",
    "    events_result = calendar_service.events().list(calendarId='primary', timeMin=start,timeMax=end,singleEvents=True,orderBy='startTime').execute()\n",
    "    events = events_result.get('items')\n",
    "    \n",
    "    for event in events : \n",
    "        attendee_list = []\n",
    "        try:\n",
    "            for attendee in event[\"attendees\"]: \n",
    "                attendee_list.append(attendee['email'])\n",
    "        except: \n",
    "            attendee_list.append(\"SELF\")\n",
    "        start_time = event[\"start\"][\"dateTime\"]\n",
    "        end_time = event[\"end\"][\"dateTime\"]\n",
    "        events_list.append(\n",
    "            {\"StartTime\" : start_time, \n",
    "             \"EndTime\": end_time, \n",
    "             \"NumAttendees\" :len(set(attendee_list)), \n",
    "             \"Attendees\" : list(set(attendee_list)),\n",
    "             \"Summary\" : event[\"summary\"]})\n",
    "    return events_list"
   ]
  },
  {
   "cell_type": "code",
   "execution_count": 49,
   "id": "0e450e61-fdfe-4e24-a93f-e870ea036531",
   "metadata": {},
   "outputs": [],
   "source": [
    "agent = Agent(\n",
    "    model=agent_model,\n",
    "    toolsets=[app],\n",
    "    system_prompt = (\n",
    "        \"You have access to:\\n\"\n",
    "        \"   1. get_current_time()\\n\"\n",
    "        \n",
    "    )\n",
    ")"
   ]
  },
  {
   "cell_type": "code",
   "execution_count": 50,
   "id": "06b9e037-e29a-4482-bfba-210859a5e395",
   "metadata": {},
   "outputs": [
    {
     "ename": "AttributeError",
     "evalue": "'FastMCP' object has no attribute 'apply'",
     "output_type": "error",
     "traceback": [
      "\u001b[31m---------------------------------------------------------------------------\u001b[39m",
      "\u001b[31mAttributeError\u001b[39m                            Traceback (most recent call last)",
      "\u001b[36mCell\u001b[39m\u001b[36m \u001b[39m\u001b[32mIn[50]\u001b[39m\u001b[32m, line 1\u001b[39m\n\u001b[32m----> \u001b[39m\u001b[32m1\u001b[39m \u001b[38;5;28;01mawait\u001b[39;00m run_async(\u001b[33m\"\u001b[39m\u001b[33mWhat’s the date today?\u001b[39m\u001b[33m\"\u001b[39m)\n",
      "\u001b[36mCell\u001b[39m\u001b[36m \u001b[39m\u001b[32mIn[37]\u001b[39m\u001b[32m, line 4\u001b[39m, in \u001b[36mrun_async\u001b[39m\u001b[34m(prompt)\u001b[39m\n\u001b[32m      3\u001b[39m \u001b[38;5;28;01masync\u001b[39;00m \u001b[38;5;28;01mdef\u001b[39;00m\u001b[38;5;250m \u001b[39m\u001b[34mrun_async\u001b[39m(prompt: \u001b[38;5;28mstr\u001b[39m) -> \u001b[38;5;28mstr\u001b[39m:\n\u001b[32m----> \u001b[39m\u001b[32m4\u001b[39m     \u001b[38;5;28;01masync\u001b[39;00m \u001b[38;5;28;01mwith\u001b[39;00m agent.run_mcp_servers():\n\u001b[32m      5\u001b[39m         result = \u001b[38;5;28;01mawait\u001b[39;00m agent.run(prompt)\n\u001b[32m      6\u001b[39m         \u001b[38;5;28;01mreturn\u001b[39;00m result.output\n",
      "\u001b[36mFile \u001b[39m\u001b[32m/usr/lib/python3.12/contextlib.py:210\u001b[39m, in \u001b[36m_AsyncGeneratorContextManager.__aenter__\u001b[39m\u001b[34m(self)\u001b[39m\n\u001b[32m    208\u001b[39m \u001b[38;5;28;01mdel\u001b[39;00m \u001b[38;5;28mself\u001b[39m.args, \u001b[38;5;28mself\u001b[39m.kwds, \u001b[38;5;28mself\u001b[39m.func\n\u001b[32m    209\u001b[39m \u001b[38;5;28;01mtry\u001b[39;00m:\n\u001b[32m--> \u001b[39m\u001b[32m210\u001b[39m     \u001b[38;5;28;01mreturn\u001b[39;00m \u001b[38;5;28;01mawait\u001b[39;00m anext(\u001b[38;5;28mself\u001b[39m.gen)\n\u001b[32m    211\u001b[39m \u001b[38;5;28;01mexcept\u001b[39;00m \u001b[38;5;167;01mStopAsyncIteration\u001b[39;00m:\n\u001b[32m    212\u001b[39m     \u001b[38;5;28;01mraise\u001b[39;00m \u001b[38;5;167;01mRuntimeError\u001b[39;00m(\u001b[33m\"\u001b[39m\u001b[33mgenerator didn\u001b[39m\u001b[33m'\u001b[39m\u001b[33mt yield\u001b[39m\u001b[33m\"\u001b[39m) \u001b[38;5;28;01mfrom\u001b[39;00m\u001b[38;5;250m \u001b[39m\u001b[38;5;28;01mNone\u001b[39;00m\n",
      "\u001b[36mFile \u001b[39m\u001b[32m/usr/local/lib/python3.12/dist-packages/pydantic_ai/agent.py:1860\u001b[39m, in \u001b[36mAgent.run_mcp_servers\u001b[39m\u001b[34m(self, model)\u001b[39m\n\u001b[32m   1852\u001b[39m \u001b[38;5;250m\u001b[39m\u001b[33;03m\"\"\"Run [`MCPServerStdio`s][pydantic_ai.mcp.MCPServerStdio] so they can be used by the agent.\u001b[39;00m\n\u001b[32m   1853\u001b[39m \n\u001b[32m   1854\u001b[39m \u001b[33;03mDeprecated: use [`async with agent`][pydantic_ai.agent.Agent.__aenter__] instead.\u001b[39;00m\n\u001b[32m   (...)\u001b[39m\u001b[32m   1857\u001b[39m \u001b[33;03mReturns: a context manager to start and shutdown the servers.\u001b[39;00m\n\u001b[32m   1858\u001b[39m \u001b[33;03m\"\"\"\u001b[39;00m\n\u001b[32m   1859\u001b[39m \u001b[38;5;28;01mtry\u001b[39;00m:\n\u001b[32m-> \u001b[39m\u001b[32m1860\u001b[39m     \u001b[38;5;28;43mself\u001b[39;49m\u001b[43m.\u001b[49m\u001b[43mset_mcp_sampling_model\u001b[49m\u001b[43m(\u001b[49m\u001b[43mmodel\u001b[49m\u001b[43m)\u001b[49m\n\u001b[32m   1861\u001b[39m \u001b[38;5;28;01mexcept\u001b[39;00m exceptions.UserError:\n\u001b[32m   1862\u001b[39m     \u001b[38;5;28;01mif\u001b[39;00m model \u001b[38;5;129;01mis\u001b[39;00m \u001b[38;5;129;01mnot\u001b[39;00m \u001b[38;5;28;01mNone\u001b[39;00m:\n",
      "\u001b[36mFile \u001b[39m\u001b[32m/usr/local/lib/python3.12/dist-packages/pydantic_ai/agent.py:1843\u001b[39m, in \u001b[36mAgent.set_mcp_sampling_model\u001b[39m\u001b[34m(self, model)\u001b[39m\n\u001b[32m   1840\u001b[39m     \u001b[38;5;28;01mif\u001b[39;00m \u001b[38;5;28misinstance\u001b[39m(toolset, MCPServer):\n\u001b[32m   1841\u001b[39m         toolset.sampling_model = sampling_model\n\u001b[32m-> \u001b[39m\u001b[32m1843\u001b[39m \u001b[38;5;28;43mself\u001b[39;49m\u001b[43m.\u001b[49m\u001b[43m_get_toolset\u001b[49m\u001b[43m(\u001b[49m\u001b[43m)\u001b[49m\u001b[43m.\u001b[49m\u001b[43mapply\u001b[49m\u001b[43m(\u001b[49m\u001b[43m_set_sampling_model\u001b[49m\u001b[43m)\u001b[49m\n",
      "\u001b[36mFile \u001b[39m\u001b[32m/usr/local/lib/python3.12/dist-packages/pydantic_ai/toolsets/combined.py:88\u001b[39m, in \u001b[36mCombinedToolset.apply\u001b[39m\u001b[34m(self, visitor)\u001b[39m\n\u001b[32m     86\u001b[39m \u001b[38;5;28;01mdef\u001b[39;00m\u001b[38;5;250m \u001b[39m\u001b[34mapply\u001b[39m(\u001b[38;5;28mself\u001b[39m, visitor: Callable[[AbstractToolset[AgentDepsT]], \u001b[38;5;28;01mNone\u001b[39;00m]) -> \u001b[38;5;28;01mNone\u001b[39;00m:\n\u001b[32m     87\u001b[39m     \u001b[38;5;28;01mfor\u001b[39;00m toolset \u001b[38;5;129;01min\u001b[39;00m \u001b[38;5;28mself\u001b[39m.toolsets:\n\u001b[32m---> \u001b[39m\u001b[32m88\u001b[39m         \u001b[43mtoolset\u001b[49m\u001b[43m.\u001b[49m\u001b[43mapply\u001b[49m(visitor)\n",
      "\u001b[31mAttributeError\u001b[39m: 'FastMCP' object has no attribute 'apply'"
     ]
    }
   ],
   "source": [
    "await run_async(\"What’s the date today?\")"
   ]
  },
  {
   "cell_type": "code",
   "execution_count": null,
   "id": "1efa06ff-6d20-4387-b035-a5d8196058b8",
   "metadata": {},
   "outputs": [],
   "source": []
  }
 ],
 "metadata": {
  "kernelspec": {
   "display_name": "Python 3 (ipykernel)",
   "language": "python",
   "name": "python3"
  },
  "language_info": {
   "codemirror_mode": {
    "name": "ipython",
    "version": 3
   },
   "file_extension": ".py",
   "mimetype": "text/x-python",
   "name": "python",
   "nbconvert_exporter": "python",
   "pygments_lexer": "ipython3",
   "version": "3.12.10"
  }
 },
 "nbformat": 4,
 "nbformat_minor": 5
}
